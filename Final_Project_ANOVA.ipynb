{
 "cells": [
  {
   "cell_type": "markdown",
   "id": "e794a2d8-4aec-47a8-86e2-9eff60c47bcd",
   "metadata": {},
   "source": [
    "## Importing Relevant Libraries"
   ]
  },
  {
   "cell_type": "code",
   "execution_count": 4,
   "id": "4b584f44-20a2-4d00-9321-87d2837b63d2",
   "metadata": {},
   "outputs": [],
   "source": [
    "import pandas as pd\n",
    "import numpy as np\n",
    "import mysql.connector \n",
    "from mysql.connector import Error\n",
    "import scipy.stats  as sct\n",
    "import matplotlib.pyplot as plt\n",
    "import seaborn as sns \n",
    "import plotly.express as px\n",
    "from scipy import stats\n",
    "import statsmodels.api as sm\n",
    "from statsmodels.formula.api import ols"
   ]
  },
  {
   "cell_type": "markdown",
   "id": "de4ca843-910c-4339-91ae-5e820cec461f",
   "metadata": {},
   "source": [
    "# Establishing Connection to MySQL Database"
   ]
  },
  {
   "cell_type": "code",
   "execution_count": 7,
   "id": "bddbf993-590c-4905-a945-0ae0fc4a29e7",
   "metadata": {},
   "outputs": [
    {
     "name": "stdout",
     "output_type": "stream",
     "text": [
      "You are now Connected to database northwind, you may fire on\n"
     ]
    }
   ],
   "source": [
    "def db_connect(hostname, username, password, db_name):\n",
    "    connection = None\n",
    "    try:\n",
    "        connection = mysql.connector.connect(\n",
    "            host = hostname,\n",
    "            user = username,\n",
    "            password = password,\n",
    "            database = db_name\n",
    "        )\n",
    "        print(f'You are now Connected to database {db_name}, you may fire on')\n",
    "    except Error as err:\n",
    "        print(f'Error: {err}')\n",
    "    return connection\n",
    "connection = db_connect('localhost', 'root', 'Moscow.1', 'northwind')"
   ]
  },
  {
   "cell_type": "markdown",
   "id": "9ec368cc-9f60-42db-939d-a409689aeed1",
   "metadata": {},
   "source": [
    "## Creating a read query function"
   ]
  },
  {
   "cell_type": "code",
   "execution_count": 8,
   "id": "7162e1bd-2708-41e1-9181-c60e4484666d",
   "metadata": {},
   "outputs": [],
   "source": [
    "def read_query(connection, query):\n",
    "    result = None\n",
    "    cursor = connection.cursor()\n",
    "    try:\n",
    "        cursor.execute(query)\n",
    "        result = cursor.fetchall()\n",
    "    except Error as err:\n",
    "        print(f'Error: {err}')\n",
    "    return result"
   ]
  },
  {
   "cell_type": "markdown",
   "id": "998b8ba3-2fcd-410d-aa9b-8303d6c2ad0b",
   "metadata": {},
   "source": [
    "# Investigating Likely Causes of Late Delivery of Orders "
   ]
  },
  {
   "cell_type": "markdown",
   "id": "77c03b3f-3153-4209-8381-b97b662916ee",
   "metadata": {},
   "source": [
    "### Investigating the Likelihood of Employee Efficiency and Choice of Shipping Method(ShipperID) on Late Delivery of Orders"
   ]
  },
  {
   "cell_type": "code",
   "execution_count": 60,
   "id": "ea2aeaa3-c760-4c3a-b30c-febe46c957dd",
   "metadata": {},
   "outputs": [
    {
     "data": {
      "text/plain": [
       "[(10970,\n",
       "  'Dodsworth Anne',\n",
       "  'Speedy Express',\n",
       "  'Madrid',\n",
       "  datetime.datetime(1998, 3, 24, 0, 0),\n",
       "  datetime.datetime(1998, 4, 24, 0, 0),\n",
       "  Decimal('16.1600'),\n",
       "  17),\n",
       " (10828,\n",
       "  'Dodsworth Anne',\n",
       "  'Speedy Express',\n",
       "  'Buenos Aires',\n",
       "  datetime.datetime(1998, 1, 13, 0, 0),\n",
       "  datetime.datetime(1998, 2, 4, 0, 0),\n",
       "  Decimal('90.8500'),\n",
       "  8),\n",
       " (10660,\n",
       "  'Callahan Laura',\n",
       "  'Speedy Express',\n",
       "  'Elgin',\n",
       "  datetime.datetime(1997, 9, 8, 0, 0),\n",
       "  datetime.datetime(1997, 10, 15, 0, 0),\n",
       "  Decimal('111.2900'),\n",
       "  9),\n",
       " (10596,\n",
       "  'Callahan Laura',\n",
       "  'Speedy Express',\n",
       "  'Seattle',\n",
       "  datetime.datetime(1997, 7, 11, 0, 0),\n",
       "  datetime.datetime(1997, 8, 12, 0, 0),\n",
       "  Decimal('16.3400'),\n",
       "  4),\n",
       " (10927,\n",
       "  'Peacock Margaret',\n",
       "  'Speedy Express',\n",
       "  'Versailles',\n",
       "  datetime.datetime(1998, 3, 5, 0, 0),\n",
       "  datetime.datetime(1998, 4, 8, 0, 0),\n",
       "  Decimal('19.7900'),\n",
       "  6),\n",
       " (10807,\n",
       "  'Peacock Margaret',\n",
       "  'Speedy Express',\n",
       "  'Torino',\n",
       "  datetime.datetime(1997, 12, 31, 0, 0),\n",
       "  datetime.datetime(1998, 1, 30, 0, 0),\n",
       "  Decimal('1.3600'),\n",
       "  2),\n",
       " (10726,\n",
       "  'Peacock Margaret',\n",
       "  'Speedy Express',\n",
       "  'London',\n",
       "  datetime.datetime(1997, 11, 3, 0, 0),\n",
       "  datetime.datetime(1997, 12, 5, 0, 0),\n",
       "  Decimal('16.5600'),\n",
       "  18),\n",
       " (10960,\n",
       "  'Leverling Janet',\n",
       "  'Speedy Express',\n",
       "  'San Cristbal',\n",
       "  datetime.datetime(1998, 3, 19, 0, 0),\n",
       "  datetime.datetime(1998, 4, 8, 0, 0),\n",
       "  Decimal('2.0800'),\n",
       "  6),\n",
       " (10309,\n",
       "  'Leverling Janet',\n",
       "  'Speedy Express',\n",
       "  'Cork',\n",
       "  datetime.datetime(1996, 9, 19, 0, 0),\n",
       "  datetime.datetime(1996, 10, 23, 0, 0),\n",
       "  Decimal('47.3000'),\n",
       "  6),\n",
       " (10727,\n",
       "  'Fuller Andrew',\n",
       "  'Speedy Express',\n",
       "  'Reggio Emilia',\n",
       "  datetime.datetime(1997, 11, 3, 0, 0),\n",
       "  datetime.datetime(1997, 12, 5, 0, 0),\n",
       "  Decimal('89.9000'),\n",
       "  4),\n",
       " (10515,\n",
       "  'Fuller Andrew',\n",
       "  'Speedy Express',\n",
       "  'Cunewalde',\n",
       "  datetime.datetime(1997, 4, 23, 0, 0),\n",
       "  datetime.datetime(1997, 5, 23, 0, 0),\n",
       "  Decimal('204.4700'),\n",
       "  16),\n",
       " (10280,\n",
       "  'Fuller Andrew',\n",
       "  'Speedy Express',\n",
       "  'Lule',\n",
       "  datetime.datetime(1996, 8, 14, 0, 0),\n",
       "  datetime.datetime(1996, 9, 12, 0, 0),\n",
       "  Decimal('8.9800'),\n",
       "  1),\n",
       " (10705,\n",
       "  'Dodsworth Anne',\n",
       "  'United Package',\n",
       "  'San Cristbal',\n",
       "  datetime.datetime(1997, 10, 15, 0, 0),\n",
       "  datetime.datetime(1997, 11, 18, 0, 0),\n",
       "  Decimal('3.5200'),\n",
       "  6),\n",
       " (10687,\n",
       "  'Dodsworth Anne',\n",
       "  'United Package',\n",
       "  'Cork',\n",
       "  datetime.datetime(1997, 9, 30, 0, 0),\n",
       "  datetime.datetime(1997, 10, 30, 0, 0),\n",
       "  Decimal('296.4300'),\n",
       "  2),\n",
       " (10545,\n",
       "  'Callahan Laura',\n",
       "  'United Package',\n",
       "  'Walla Walla',\n",
       "  datetime.datetime(1997, 5, 22, 0, 0),\n",
       "  datetime.datetime(1997, 6, 26, 0, 0),\n",
       "  Decimal('11.9200'),\n",
       "  7),\n",
       " (10777,\n",
       "  'King Robert',\n",
       "  'United Package',\n",
       "  'Campinas',\n",
       "  datetime.datetime(1997, 12, 15, 0, 0),\n",
       "  datetime.datetime(1998, 1, 21, 0, 0),\n",
       "  Decimal('3.0100'),\n",
       "  23),\n",
       " (10593,\n",
       "  'King Robert',\n",
       "  'United Package',\n",
       "  'Frankfurt a.M.',\n",
       "  datetime.datetime(1997, 7, 9, 0, 0),\n",
       "  datetime.datetime(1997, 8, 13, 0, 0),\n",
       "  Decimal('174.2000'),\n",
       "  7),\n",
       " (10523,\n",
       "  'King Robert',\n",
       "  'United Package',\n",
       "  'London',\n",
       "  datetime.datetime(1997, 5, 1, 0, 0),\n",
       "  datetime.datetime(1997, 5, 30, 0, 0),\n",
       "  Decimal('77.6300'),\n",
       "  1),\n",
       " (10483,\n",
       "  'King Robert',\n",
       "  'United Package',\n",
       "  'Seattle',\n",
       "  datetime.datetime(1997, 3, 24, 0, 0),\n",
       "  datetime.datetime(1997, 4, 25, 0, 0),\n",
       "  Decimal('15.2800'),\n",
       "  4),\n",
       " (10271,\n",
       "  'Suyama Michael',\n",
       "  'United Package',\n",
       "  'Lander',\n",
       "  datetime.datetime(1996, 8, 1, 0, 0),\n",
       "  datetime.datetime(1996, 8, 30, 0, 0),\n",
       "  Decimal('4.5400'),\n",
       "  1),\n",
       " (10816,\n",
       "  'Peacock Margaret',\n",
       "  'United Package',\n",
       "  'Eugene',\n",
       "  datetime.datetime(1998, 1, 6, 0, 0),\n",
       "  datetime.datetime(1998, 2, 4, 0, 0),\n",
       "  Decimal('719.7800'),\n",
       "  1),\n",
       " (10749,\n",
       "  'Peacock Margaret',\n",
       "  'United Package',\n",
       "  'Cowes',\n",
       "  datetime.datetime(1997, 11, 20, 0, 0),\n",
       "  datetime.datetime(1997, 12, 19, 0, 0),\n",
       "  Decimal('61.5300'),\n",
       "  1),\n",
       " (10427,\n",
       "  'Peacock Margaret',\n",
       "  'United Package',\n",
       "  'Salzburg',\n",
       "  datetime.datetime(1997, 1, 27, 0, 0),\n",
       "  datetime.datetime(1997, 3, 3, 0, 0),\n",
       "  Decimal('31.2900'),\n",
       "  7),\n",
       " (10302,\n",
       "  'Peacock Margaret',\n",
       "  'United Package',\n",
       "  'Charleroi',\n",
       "  datetime.datetime(1996, 9, 10, 0, 0),\n",
       "  datetime.datetime(1996, 10, 9, 0, 0),\n",
       "  Decimal('6.2700'),\n",
       "  1),\n",
       " (10924,\n",
       "  'Leverling Janet',\n",
       "  'United Package',\n",
       "  'Lule',\n",
       "  datetime.datetime(1998, 3, 4, 0, 0),\n",
       "  datetime.datetime(1998, 4, 8, 0, 0),\n",
       "  Decimal('151.5200'),\n",
       "  7),\n",
       " (10779,\n",
       "  'Leverling Janet',\n",
       "  'United Package',\n",
       "  'Leipzig',\n",
       "  datetime.datetime(1997, 12, 16, 0, 0),\n",
       "  datetime.datetime(1998, 1, 14, 0, 0),\n",
       "  Decimal('58.1300'),\n",
       "  1),\n",
       " (10663,\n",
       "  'Fuller Andrew',\n",
       "  'United Package',\n",
       "  'Marseille',\n",
       "  datetime.datetime(1997, 9, 10, 0, 0),\n",
       "  datetime.datetime(1997, 10, 3, 0, 0),\n",
       "  Decimal('113.1500'),\n",
       "  9),\n",
       " (10827,\n",
       "  'Davolio Nancy',\n",
       "  'United Package',\n",
       "  'Marseille',\n",
       "  datetime.datetime(1998, 1, 12, 0, 0),\n",
       "  datetime.datetime(1998, 2, 6, 0, 0),\n",
       "  Decimal('63.5400'),\n",
       "  11),\n",
       " (10380,\n",
       "  'Callahan Laura',\n",
       "  'Federal Shipping',\n",
       "  'Cork',\n",
       "  datetime.datetime(1996, 12, 12, 0, 0),\n",
       "  datetime.datetime(1997, 1, 16, 0, 0),\n",
       "  Decimal('35.0300'),\n",
       "  7),\n",
       " (10423,\n",
       "  'Suyama Michael',\n",
       "  'Federal Shipping',\n",
       "  'Campinas',\n",
       "  datetime.datetime(1997, 1, 23, 0, 0),\n",
       "  datetime.datetime(1997, 2, 24, 0, 0),\n",
       "  Decimal('24.5000'),\n",
       "  18),\n",
       " (10264,\n",
       "  'Suyama Michael',\n",
       "  'Federal Shipping',\n",
       "  'Brcke',\n",
       "  datetime.datetime(1996, 7, 24, 0, 0),\n",
       "  datetime.datetime(1996, 8, 23, 0, 0),\n",
       "  Decimal('3.6700'),\n",
       "  2),\n",
       " (10320,\n",
       "  'Buchanan Steven',\n",
       "  'Federal Shipping',\n",
       "  'Oulu',\n",
       "  datetime.datetime(1996, 10, 3, 0, 0),\n",
       "  datetime.datetime(1996, 10, 18, 0, 0),\n",
       "  Decimal('34.5700'),\n",
       "  1),\n",
       " (10847,\n",
       "  'Peacock Margaret',\n",
       "  'Federal Shipping',\n",
       "  'Boise',\n",
       "  datetime.datetime(1998, 1, 22, 0, 0),\n",
       "  datetime.datetime(1998, 2, 10, 0, 0),\n",
       "  Decimal('487.5700'),\n",
       "  5),\n",
       " (10578,\n",
       "  'Peacock Margaret',\n",
       "  'Federal Shipping',\n",
       "  'London',\n",
       "  datetime.datetime(1997, 6, 24, 0, 0),\n",
       "  datetime.datetime(1997, 7, 25, 0, 0),\n",
       "  Decimal('29.6000'),\n",
       "  3),\n",
       " (10451,\n",
       "  'Peacock Margaret',\n",
       "  'Federal Shipping',\n",
       "  'Cunewalde',\n",
       "  datetime.datetime(1997, 2, 19, 0, 0),\n",
       "  datetime.datetime(1997, 3, 12, 0, 0),\n",
       "  Decimal('189.0900'),\n",
       "  7),\n",
       " (10433,\n",
       "  'Leverling Janet',\n",
       "  'Federal Shipping',\n",
       "  'Lisboa',\n",
       "  datetime.datetime(1997, 2, 3, 0, 0),\n",
       "  datetime.datetime(1997, 3, 4, 0, 0),\n",
       "  Decimal('73.8300'),\n",
       "  1),\n",
       " (10709,\n",
       "  'Davolio Nancy',\n",
       "  'Federal Shipping',\n",
       "  'Campinas',\n",
       "  datetime.datetime(1997, 10, 17, 0, 0),\n",
       "  datetime.datetime(1997, 11, 20, 0, 0),\n",
       "  Decimal('210.8000'),\n",
       "  6)]"
      ]
     },
     "execution_count": 60,
     "metadata": {},
     "output_type": "execute_result"
    }
   ],
   "source": [
    "query_1 = '''\n",
    "SELECT \n",
    "    o.OrderID,\n",
    "    concat(e.LastName, ' ', e.FirstName) as `Employee_Name`, \n",
    "    s.CompanyName AS Shipping_Company, \n",
    "    o.ShipCity,\n",
    "    o.OrderDate,\n",
    "    o.ShippedDate,\n",
    "    o.freight,\n",
    "    DATEDIFF(ShippedDate, RequiredDate) AS Late_By\n",
    "from orders o\n",
    "join shippers s on o.ShipVia = s.ShipperID\n",
    "join employees e on o.employeeid = e.EmployeeID\n",
    "where o.ShippedDate>o.RequiredDate;\n",
    "\n",
    "'''\n",
    "result = read_query(connection, query_1)\n",
    "result"
   ]
  },
  {
   "cell_type": "markdown",
   "id": "2fc19349-7cbf-4fe1-adb9-908a09959233",
   "metadata": {},
   "source": [
    "### Creating the Dataframe and Data Cleaning"
   ]
  },
  {
   "cell_type": "code",
   "execution_count": 61,
   "id": "1c05debc-3128-4460-9282-63d995979c94",
   "metadata": {},
   "outputs": [
    {
     "data": {
      "text/html": [
       "<div>\n",
       "<style scoped>\n",
       "    .dataframe tbody tr th:only-of-type {\n",
       "        vertical-align: middle;\n",
       "    }\n",
       "\n",
       "    .dataframe tbody tr th {\n",
       "        vertical-align: top;\n",
       "    }\n",
       "\n",
       "    .dataframe thead th {\n",
       "        text-align: right;\n",
       "    }\n",
       "</style>\n",
       "<table border=\"1\" class=\"dataframe\">\n",
       "  <thead>\n",
       "    <tr style=\"text-align: right;\">\n",
       "      <th></th>\n",
       "      <th>OrderID</th>\n",
       "      <th>Employee_Name</th>\n",
       "      <th>Shipping_Company</th>\n",
       "      <th>Ship_City</th>\n",
       "      <th>OrderDate</th>\n",
       "      <th>ShippedDate</th>\n",
       "      <th>Freight</th>\n",
       "      <th>Late_By</th>\n",
       "    </tr>\n",
       "  </thead>\n",
       "  <tbody>\n",
       "    <tr>\n",
       "      <th>0</th>\n",
       "      <td>10970</td>\n",
       "      <td>Dodsworth Anne</td>\n",
       "      <td>Speedy Express</td>\n",
       "      <td>Madrid</td>\n",
       "      <td>1998-03-24</td>\n",
       "      <td>1998-04-24</td>\n",
       "      <td>16.1600</td>\n",
       "      <td>17</td>\n",
       "    </tr>\n",
       "    <tr>\n",
       "      <th>1</th>\n",
       "      <td>10828</td>\n",
       "      <td>Dodsworth Anne</td>\n",
       "      <td>Speedy Express</td>\n",
       "      <td>Buenos Aires</td>\n",
       "      <td>1998-01-13</td>\n",
       "      <td>1998-02-04</td>\n",
       "      <td>90.8500</td>\n",
       "      <td>8</td>\n",
       "    </tr>\n",
       "    <tr>\n",
       "      <th>2</th>\n",
       "      <td>10660</td>\n",
       "      <td>Callahan Laura</td>\n",
       "      <td>Speedy Express</td>\n",
       "      <td>Elgin</td>\n",
       "      <td>1997-09-08</td>\n",
       "      <td>1997-10-15</td>\n",
       "      <td>111.2900</td>\n",
       "      <td>9</td>\n",
       "    </tr>\n",
       "    <tr>\n",
       "      <th>3</th>\n",
       "      <td>10596</td>\n",
       "      <td>Callahan Laura</td>\n",
       "      <td>Speedy Express</td>\n",
       "      <td>Seattle</td>\n",
       "      <td>1997-07-11</td>\n",
       "      <td>1997-08-12</td>\n",
       "      <td>16.3400</td>\n",
       "      <td>4</td>\n",
       "    </tr>\n",
       "    <tr>\n",
       "      <th>4</th>\n",
       "      <td>10927</td>\n",
       "      <td>Peacock Margaret</td>\n",
       "      <td>Speedy Express</td>\n",
       "      <td>Versailles</td>\n",
       "      <td>1998-03-05</td>\n",
       "      <td>1998-04-08</td>\n",
       "      <td>19.7900</td>\n",
       "      <td>6</td>\n",
       "    </tr>\n",
       "    <tr>\n",
       "      <th>5</th>\n",
       "      <td>10807</td>\n",
       "      <td>Peacock Margaret</td>\n",
       "      <td>Speedy Express</td>\n",
       "      <td>Torino</td>\n",
       "      <td>1997-12-31</td>\n",
       "      <td>1998-01-30</td>\n",
       "      <td>1.3600</td>\n",
       "      <td>2</td>\n",
       "    </tr>\n",
       "    <tr>\n",
       "      <th>6</th>\n",
       "      <td>10726</td>\n",
       "      <td>Peacock Margaret</td>\n",
       "      <td>Speedy Express</td>\n",
       "      <td>London</td>\n",
       "      <td>1997-11-03</td>\n",
       "      <td>1997-12-05</td>\n",
       "      <td>16.5600</td>\n",
       "      <td>18</td>\n",
       "    </tr>\n",
       "    <tr>\n",
       "      <th>7</th>\n",
       "      <td>10960</td>\n",
       "      <td>Leverling Janet</td>\n",
       "      <td>Speedy Express</td>\n",
       "      <td>San Cristbal</td>\n",
       "      <td>1998-03-19</td>\n",
       "      <td>1998-04-08</td>\n",
       "      <td>2.0800</td>\n",
       "      <td>6</td>\n",
       "    </tr>\n",
       "    <tr>\n",
       "      <th>8</th>\n",
       "      <td>10309</td>\n",
       "      <td>Leverling Janet</td>\n",
       "      <td>Speedy Express</td>\n",
       "      <td>Cork</td>\n",
       "      <td>1996-09-19</td>\n",
       "      <td>1996-10-23</td>\n",
       "      <td>47.3000</td>\n",
       "      <td>6</td>\n",
       "    </tr>\n",
       "    <tr>\n",
       "      <th>9</th>\n",
       "      <td>10727</td>\n",
       "      <td>Fuller Andrew</td>\n",
       "      <td>Speedy Express</td>\n",
       "      <td>Reggio Emilia</td>\n",
       "      <td>1997-11-03</td>\n",
       "      <td>1997-12-05</td>\n",
       "      <td>89.9000</td>\n",
       "      <td>4</td>\n",
       "    </tr>\n",
       "    <tr>\n",
       "      <th>10</th>\n",
       "      <td>10515</td>\n",
       "      <td>Fuller Andrew</td>\n",
       "      <td>Speedy Express</td>\n",
       "      <td>Cunewalde</td>\n",
       "      <td>1997-04-23</td>\n",
       "      <td>1997-05-23</td>\n",
       "      <td>204.4700</td>\n",
       "      <td>16</td>\n",
       "    </tr>\n",
       "    <tr>\n",
       "      <th>11</th>\n",
       "      <td>10280</td>\n",
       "      <td>Fuller Andrew</td>\n",
       "      <td>Speedy Express</td>\n",
       "      <td>Lule</td>\n",
       "      <td>1996-08-14</td>\n",
       "      <td>1996-09-12</td>\n",
       "      <td>8.9800</td>\n",
       "      <td>1</td>\n",
       "    </tr>\n",
       "    <tr>\n",
       "      <th>12</th>\n",
       "      <td>10705</td>\n",
       "      <td>Dodsworth Anne</td>\n",
       "      <td>United Package</td>\n",
       "      <td>San Cristbal</td>\n",
       "      <td>1997-10-15</td>\n",
       "      <td>1997-11-18</td>\n",
       "      <td>3.5200</td>\n",
       "      <td>6</td>\n",
       "    </tr>\n",
       "    <tr>\n",
       "      <th>13</th>\n",
       "      <td>10687</td>\n",
       "      <td>Dodsworth Anne</td>\n",
       "      <td>United Package</td>\n",
       "      <td>Cork</td>\n",
       "      <td>1997-09-30</td>\n",
       "      <td>1997-10-30</td>\n",
       "      <td>296.4300</td>\n",
       "      <td>2</td>\n",
       "    </tr>\n",
       "    <tr>\n",
       "      <th>14</th>\n",
       "      <td>10545</td>\n",
       "      <td>Callahan Laura</td>\n",
       "      <td>United Package</td>\n",
       "      <td>Walla Walla</td>\n",
       "      <td>1997-05-22</td>\n",
       "      <td>1997-06-26</td>\n",
       "      <td>11.9200</td>\n",
       "      <td>7</td>\n",
       "    </tr>\n",
       "    <tr>\n",
       "      <th>15</th>\n",
       "      <td>10777</td>\n",
       "      <td>King Robert</td>\n",
       "      <td>United Package</td>\n",
       "      <td>Campinas</td>\n",
       "      <td>1997-12-15</td>\n",
       "      <td>1998-01-21</td>\n",
       "      <td>3.0100</td>\n",
       "      <td>23</td>\n",
       "    </tr>\n",
       "    <tr>\n",
       "      <th>16</th>\n",
       "      <td>10593</td>\n",
       "      <td>King Robert</td>\n",
       "      <td>United Package</td>\n",
       "      <td>Frankfurt a.M.</td>\n",
       "      <td>1997-07-09</td>\n",
       "      <td>1997-08-13</td>\n",
       "      <td>174.2000</td>\n",
       "      <td>7</td>\n",
       "    </tr>\n",
       "    <tr>\n",
       "      <th>17</th>\n",
       "      <td>10523</td>\n",
       "      <td>King Robert</td>\n",
       "      <td>United Package</td>\n",
       "      <td>London</td>\n",
       "      <td>1997-05-01</td>\n",
       "      <td>1997-05-30</td>\n",
       "      <td>77.6300</td>\n",
       "      <td>1</td>\n",
       "    </tr>\n",
       "    <tr>\n",
       "      <th>18</th>\n",
       "      <td>10483</td>\n",
       "      <td>King Robert</td>\n",
       "      <td>United Package</td>\n",
       "      <td>Seattle</td>\n",
       "      <td>1997-03-24</td>\n",
       "      <td>1997-04-25</td>\n",
       "      <td>15.2800</td>\n",
       "      <td>4</td>\n",
       "    </tr>\n",
       "    <tr>\n",
       "      <th>19</th>\n",
       "      <td>10271</td>\n",
       "      <td>Suyama Michael</td>\n",
       "      <td>United Package</td>\n",
       "      <td>Lander</td>\n",
       "      <td>1996-08-01</td>\n",
       "      <td>1996-08-30</td>\n",
       "      <td>4.5400</td>\n",
       "      <td>1</td>\n",
       "    </tr>\n",
       "    <tr>\n",
       "      <th>20</th>\n",
       "      <td>10816</td>\n",
       "      <td>Peacock Margaret</td>\n",
       "      <td>United Package</td>\n",
       "      <td>Eugene</td>\n",
       "      <td>1998-01-06</td>\n",
       "      <td>1998-02-04</td>\n",
       "      <td>719.7800</td>\n",
       "      <td>1</td>\n",
       "    </tr>\n",
       "    <tr>\n",
       "      <th>21</th>\n",
       "      <td>10749</td>\n",
       "      <td>Peacock Margaret</td>\n",
       "      <td>United Package</td>\n",
       "      <td>Cowes</td>\n",
       "      <td>1997-11-20</td>\n",
       "      <td>1997-12-19</td>\n",
       "      <td>61.5300</td>\n",
       "      <td>1</td>\n",
       "    </tr>\n",
       "    <tr>\n",
       "      <th>22</th>\n",
       "      <td>10427</td>\n",
       "      <td>Peacock Margaret</td>\n",
       "      <td>United Package</td>\n",
       "      <td>Salzburg</td>\n",
       "      <td>1997-01-27</td>\n",
       "      <td>1997-03-03</td>\n",
       "      <td>31.2900</td>\n",
       "      <td>7</td>\n",
       "    </tr>\n",
       "    <tr>\n",
       "      <th>23</th>\n",
       "      <td>10302</td>\n",
       "      <td>Peacock Margaret</td>\n",
       "      <td>United Package</td>\n",
       "      <td>Charleroi</td>\n",
       "      <td>1996-09-10</td>\n",
       "      <td>1996-10-09</td>\n",
       "      <td>6.2700</td>\n",
       "      <td>1</td>\n",
       "    </tr>\n",
       "    <tr>\n",
       "      <th>24</th>\n",
       "      <td>10924</td>\n",
       "      <td>Leverling Janet</td>\n",
       "      <td>United Package</td>\n",
       "      <td>Lule</td>\n",
       "      <td>1998-03-04</td>\n",
       "      <td>1998-04-08</td>\n",
       "      <td>151.5200</td>\n",
       "      <td>7</td>\n",
       "    </tr>\n",
       "    <tr>\n",
       "      <th>25</th>\n",
       "      <td>10779</td>\n",
       "      <td>Leverling Janet</td>\n",
       "      <td>United Package</td>\n",
       "      <td>Leipzig</td>\n",
       "      <td>1997-12-16</td>\n",
       "      <td>1998-01-14</td>\n",
       "      <td>58.1300</td>\n",
       "      <td>1</td>\n",
       "    </tr>\n",
       "    <tr>\n",
       "      <th>26</th>\n",
       "      <td>10663</td>\n",
       "      <td>Fuller Andrew</td>\n",
       "      <td>United Package</td>\n",
       "      <td>Marseille</td>\n",
       "      <td>1997-09-10</td>\n",
       "      <td>1997-10-03</td>\n",
       "      <td>113.1500</td>\n",
       "      <td>9</td>\n",
       "    </tr>\n",
       "    <tr>\n",
       "      <th>27</th>\n",
       "      <td>10827</td>\n",
       "      <td>Davolio Nancy</td>\n",
       "      <td>United Package</td>\n",
       "      <td>Marseille</td>\n",
       "      <td>1998-01-12</td>\n",
       "      <td>1998-02-06</td>\n",
       "      <td>63.5400</td>\n",
       "      <td>11</td>\n",
       "    </tr>\n",
       "    <tr>\n",
       "      <th>28</th>\n",
       "      <td>10380</td>\n",
       "      <td>Callahan Laura</td>\n",
       "      <td>Federal Shipping</td>\n",
       "      <td>Cork</td>\n",
       "      <td>1996-12-12</td>\n",
       "      <td>1997-01-16</td>\n",
       "      <td>35.0300</td>\n",
       "      <td>7</td>\n",
       "    </tr>\n",
       "    <tr>\n",
       "      <th>29</th>\n",
       "      <td>10423</td>\n",
       "      <td>Suyama Michael</td>\n",
       "      <td>Federal Shipping</td>\n",
       "      <td>Campinas</td>\n",
       "      <td>1997-01-23</td>\n",
       "      <td>1997-02-24</td>\n",
       "      <td>24.5000</td>\n",
       "      <td>18</td>\n",
       "    </tr>\n",
       "    <tr>\n",
       "      <th>30</th>\n",
       "      <td>10264</td>\n",
       "      <td>Suyama Michael</td>\n",
       "      <td>Federal Shipping</td>\n",
       "      <td>Brcke</td>\n",
       "      <td>1996-07-24</td>\n",
       "      <td>1996-08-23</td>\n",
       "      <td>3.6700</td>\n",
       "      <td>2</td>\n",
       "    </tr>\n",
       "    <tr>\n",
       "      <th>31</th>\n",
       "      <td>10320</td>\n",
       "      <td>Buchanan Steven</td>\n",
       "      <td>Federal Shipping</td>\n",
       "      <td>Oulu</td>\n",
       "      <td>1996-10-03</td>\n",
       "      <td>1996-10-18</td>\n",
       "      <td>34.5700</td>\n",
       "      <td>1</td>\n",
       "    </tr>\n",
       "    <tr>\n",
       "      <th>32</th>\n",
       "      <td>10847</td>\n",
       "      <td>Peacock Margaret</td>\n",
       "      <td>Federal Shipping</td>\n",
       "      <td>Boise</td>\n",
       "      <td>1998-01-22</td>\n",
       "      <td>1998-02-10</td>\n",
       "      <td>487.5700</td>\n",
       "      <td>5</td>\n",
       "    </tr>\n",
       "    <tr>\n",
       "      <th>33</th>\n",
       "      <td>10578</td>\n",
       "      <td>Peacock Margaret</td>\n",
       "      <td>Federal Shipping</td>\n",
       "      <td>London</td>\n",
       "      <td>1997-06-24</td>\n",
       "      <td>1997-07-25</td>\n",
       "      <td>29.6000</td>\n",
       "      <td>3</td>\n",
       "    </tr>\n",
       "    <tr>\n",
       "      <th>34</th>\n",
       "      <td>10451</td>\n",
       "      <td>Peacock Margaret</td>\n",
       "      <td>Federal Shipping</td>\n",
       "      <td>Cunewalde</td>\n",
       "      <td>1997-02-19</td>\n",
       "      <td>1997-03-12</td>\n",
       "      <td>189.0900</td>\n",
       "      <td>7</td>\n",
       "    </tr>\n",
       "    <tr>\n",
       "      <th>35</th>\n",
       "      <td>10433</td>\n",
       "      <td>Leverling Janet</td>\n",
       "      <td>Federal Shipping</td>\n",
       "      <td>Lisboa</td>\n",
       "      <td>1997-02-03</td>\n",
       "      <td>1997-03-04</td>\n",
       "      <td>73.8300</td>\n",
       "      <td>1</td>\n",
       "    </tr>\n",
       "    <tr>\n",
       "      <th>36</th>\n",
       "      <td>10709</td>\n",
       "      <td>Davolio Nancy</td>\n",
       "      <td>Federal Shipping</td>\n",
       "      <td>Campinas</td>\n",
       "      <td>1997-10-17</td>\n",
       "      <td>1997-11-20</td>\n",
       "      <td>210.8000</td>\n",
       "      <td>6</td>\n",
       "    </tr>\n",
       "  </tbody>\n",
       "</table>\n",
       "</div>"
      ],
      "text/plain": [
       "    OrderID     Employee_Name  Shipping_Company       Ship_City  OrderDate  \\\n",
       "0     10970    Dodsworth Anne    Speedy Express          Madrid 1998-03-24   \n",
       "1     10828    Dodsworth Anne    Speedy Express    Buenos Aires 1998-01-13   \n",
       "2     10660    Callahan Laura    Speedy Express           Elgin 1997-09-08   \n",
       "3     10596    Callahan Laura    Speedy Express         Seattle 1997-07-11   \n",
       "4     10927  Peacock Margaret    Speedy Express      Versailles 1998-03-05   \n",
       "5     10807  Peacock Margaret    Speedy Express          Torino 1997-12-31   \n",
       "6     10726  Peacock Margaret    Speedy Express          London 1997-11-03   \n",
       "7     10960   Leverling Janet    Speedy Express    San Cristbal 1998-03-19   \n",
       "8     10309   Leverling Janet    Speedy Express            Cork 1996-09-19   \n",
       "9     10727     Fuller Andrew    Speedy Express   Reggio Emilia 1997-11-03   \n",
       "10    10515     Fuller Andrew    Speedy Express       Cunewalde 1997-04-23   \n",
       "11    10280     Fuller Andrew    Speedy Express            Lule 1996-08-14   \n",
       "12    10705    Dodsworth Anne    United Package    San Cristbal 1997-10-15   \n",
       "13    10687    Dodsworth Anne    United Package            Cork 1997-09-30   \n",
       "14    10545    Callahan Laura    United Package     Walla Walla 1997-05-22   \n",
       "15    10777       King Robert    United Package        Campinas 1997-12-15   \n",
       "16    10593       King Robert    United Package  Frankfurt a.M. 1997-07-09   \n",
       "17    10523       King Robert    United Package          London 1997-05-01   \n",
       "18    10483       King Robert    United Package         Seattle 1997-03-24   \n",
       "19    10271    Suyama Michael    United Package          Lander 1996-08-01   \n",
       "20    10816  Peacock Margaret    United Package          Eugene 1998-01-06   \n",
       "21    10749  Peacock Margaret    United Package           Cowes 1997-11-20   \n",
       "22    10427  Peacock Margaret    United Package        Salzburg 1997-01-27   \n",
       "23    10302  Peacock Margaret    United Package       Charleroi 1996-09-10   \n",
       "24    10924   Leverling Janet    United Package            Lule 1998-03-04   \n",
       "25    10779   Leverling Janet    United Package         Leipzig 1997-12-16   \n",
       "26    10663     Fuller Andrew    United Package       Marseille 1997-09-10   \n",
       "27    10827     Davolio Nancy    United Package       Marseille 1998-01-12   \n",
       "28    10380    Callahan Laura  Federal Shipping            Cork 1996-12-12   \n",
       "29    10423    Suyama Michael  Federal Shipping        Campinas 1997-01-23   \n",
       "30    10264    Suyama Michael  Federal Shipping           Brcke 1996-07-24   \n",
       "31    10320   Buchanan Steven  Federal Shipping            Oulu 1996-10-03   \n",
       "32    10847  Peacock Margaret  Federal Shipping           Boise 1998-01-22   \n",
       "33    10578  Peacock Margaret  Federal Shipping          London 1997-06-24   \n",
       "34    10451  Peacock Margaret  Federal Shipping       Cunewalde 1997-02-19   \n",
       "35    10433   Leverling Janet  Federal Shipping          Lisboa 1997-02-03   \n",
       "36    10709     Davolio Nancy  Federal Shipping        Campinas 1997-10-17   \n",
       "\n",
       "   ShippedDate   Freight  Late_By  \n",
       "0   1998-04-24   16.1600       17  \n",
       "1   1998-02-04   90.8500        8  \n",
       "2   1997-10-15  111.2900        9  \n",
       "3   1997-08-12   16.3400        4  \n",
       "4   1998-04-08   19.7900        6  \n",
       "5   1998-01-30    1.3600        2  \n",
       "6   1997-12-05   16.5600       18  \n",
       "7   1998-04-08    2.0800        6  \n",
       "8   1996-10-23   47.3000        6  \n",
       "9   1997-12-05   89.9000        4  \n",
       "10  1997-05-23  204.4700       16  \n",
       "11  1996-09-12    8.9800        1  \n",
       "12  1997-11-18    3.5200        6  \n",
       "13  1997-10-30  296.4300        2  \n",
       "14  1997-06-26   11.9200        7  \n",
       "15  1998-01-21    3.0100       23  \n",
       "16  1997-08-13  174.2000        7  \n",
       "17  1997-05-30   77.6300        1  \n",
       "18  1997-04-25   15.2800        4  \n",
       "19  1996-08-30    4.5400        1  \n",
       "20  1998-02-04  719.7800        1  \n",
       "21  1997-12-19   61.5300        1  \n",
       "22  1997-03-03   31.2900        7  \n",
       "23  1996-10-09    6.2700        1  \n",
       "24  1998-04-08  151.5200        7  \n",
       "25  1998-01-14   58.1300        1  \n",
       "26  1997-10-03  113.1500        9  \n",
       "27  1998-02-06   63.5400       11  \n",
       "28  1997-01-16   35.0300        7  \n",
       "29  1997-02-24   24.5000       18  \n",
       "30  1996-08-23    3.6700        2  \n",
       "31  1996-10-18   34.5700        1  \n",
       "32  1998-02-10  487.5700        5  \n",
       "33  1997-07-25   29.6000        3  \n",
       "34  1997-03-12  189.0900        7  \n",
       "35  1997-03-04   73.8300        1  \n",
       "36  1997-11-20  210.8000        6  "
      ]
     },
     "execution_count": 61,
     "metadata": {},
     "output_type": "execute_result"
    }
   ],
   "source": [
    "data_list = []\n",
    "\n",
    "for row in result:\n",
    "    row = list(row)\n",
    "    data_list.append(row)\n",
    "\n",
    "\n",
    "    columns = [\n",
    "        'OrderID','Employee_Name','Shipping_Company', 'Ship_City','OrderDate', 'ShippedDate', 'Freight','Late_By'\n",
    "]\n",
    "\n",
    "shippers_df = pd.DataFrame(data=data_list, columns=columns)\n",
    "shippers_df"
   ]
  },
  {
   "cell_type": "code",
   "execution_count": 62,
   "id": "8c3766ad-52cd-4a05-84f2-0661098c6eee",
   "metadata": {},
   "outputs": [
    {
     "data": {
      "text/plain": [
       "(37, 8)"
      ]
     },
     "execution_count": 62,
     "metadata": {},
     "output_type": "execute_result"
    }
   ],
   "source": [
    "shippers_df.shape\n"
   ]
  },
  {
   "cell_type": "code",
   "execution_count": 63,
   "id": "f77f16ea-046f-4ea8-a410-8cdb292c3c12",
   "metadata": {},
   "outputs": [
    {
     "name": "stdout",
     "output_type": "stream",
     "text": [
      "<class 'pandas.core.frame.DataFrame'>\n",
      "RangeIndex: 37 entries, 0 to 36\n",
      "Data columns (total 8 columns):\n",
      " #   Column            Non-Null Count  Dtype         \n",
      "---  ------            --------------  -----         \n",
      " 0   OrderID           37 non-null     int64         \n",
      " 1   Employee_Name     37 non-null     object        \n",
      " 2   Shipping_Company  37 non-null     object        \n",
      " 3   Ship_City         37 non-null     object        \n",
      " 4   OrderDate         37 non-null     datetime64[ns]\n",
      " 5   ShippedDate       37 non-null     datetime64[ns]\n",
      " 6   Freight           37 non-null     object        \n",
      " 7   Late_By           37 non-null     int64         \n",
      "dtypes: datetime64[ns](2), int64(2), object(4)\n",
      "memory usage: 2.4+ KB\n"
     ]
    }
   ],
   "source": [
    "# A quick look at some basic information about our dataset.\n",
    "shippers_df.info()"
   ]
  },
  {
   "cell_type": "code",
   "execution_count": 64,
   "id": "205f9fcb-793d-428f-a74d-ed449669ed71",
   "metadata": {},
   "outputs": [
    {
     "data": {
      "text/plain": [
       "OrderID             0\n",
       "Employee_Name       0\n",
       "Shipping_Company    0\n",
       "Ship_City           0\n",
       "OrderDate           0\n",
       "ShippedDate         0\n",
       "Freight             0\n",
       "Late_By             0\n",
       "dtype: int64"
      ]
     },
     "execution_count": 64,
     "metadata": {},
     "output_type": "execute_result"
    }
   ],
   "source": [
    "# Checking the actual number of rows and columns containing null values\n",
    "shippers_df.isnull().sum()"
   ]
  },
  {
   "cell_type": "markdown",
   "id": "e735e8e0-bebb-4024-9894-72b30c10d69e",
   "metadata": {},
   "source": [
    "Interpreting the check above, we were able to  the following:\n",
    "\n",
    "1. All our attributes are in the right datatype except freight.\n",
    "2. Our data frame contains 37 rows and 8 columns\n",
    "3. No column contains null values.\n",
    "   \n",
    "Consequently, we shall convert freight data type from object to float since it is a monetary currency."
   ]
  },
  {
   "cell_type": "code",
   "execution_count": 65,
   "id": "72d3aff6-484a-4e23-8f43-48ff5f8c9aad",
   "metadata": {},
   "outputs": [],
   "source": [
    "# converting freight to the right data_type.\n",
    "\n",
    "shippers_df[['Freight']] = shippers_df[['Freight']].apply(pd.to_numeric)"
   ]
  },
  {
   "cell_type": "code",
   "execution_count": 51,
   "id": "b368322b-8010-4e50-84b8-aafb60ea1cd8",
   "metadata": {},
   "outputs": [
    {
     "name": "stdout",
     "output_type": "stream",
     "text": [
      "<class 'pandas.core.frame.DataFrame'>\n",
      "RangeIndex: 37 entries, 0 to 36\n",
      "Data columns (total 8 columns):\n",
      " #   Column            Non-Null Count  Dtype         \n",
      "---  ------            --------------  -----         \n",
      " 0   OrderID           37 non-null     int64         \n",
      " 1   Shipping_Company  37 non-null     object        \n",
      " 2   Ship_City         37 non-null     object        \n",
      " 3   OrderDate         37 non-null     datetime64[ns]\n",
      " 4   ShippedDate       37 non-null     datetime64[ns]\n",
      " 5   Freight           37 non-null     float64       \n",
      " 6   EmployeeID        37 non-null     int64         \n",
      " 7   Late_By           37 non-null     int64         \n",
      "dtypes: datetime64[ns](2), float64(1), int64(3), object(2)\n",
      "memory usage: 2.4+ KB\n"
     ]
    }
   ],
   "source": [
    "shippers_df.info()"
   ]
  },
  {
   "cell_type": "markdown",
   "id": "b2588c45-a576-433d-87ce-3e956a7cdd9e",
   "metadata": {},
   "source": [
    "It will be important to know how long each of our orders took before shipping. Having this information will be important in our analysis. Therefore, we are going to generate a new column called waiting_period from order date and shipped date."
   ]
  },
  {
   "cell_type": "code",
   "execution_count": 66,
   "id": "9fbf4a49-5fef-4154-adf4-5e21639d49f0",
   "metadata": {},
   "outputs": [],
   "source": [
    "# create new column that contains order and shipping date difference.\n",
    "\n",
    "shippers_df['waiting_period'] = (shippers_df['ShippedDate'] - shippers_df['OrderDate']) / np.timedelta64(1, 'D')"
   ]
  },
  {
   "cell_type": "code",
   "execution_count": 67,
   "id": "cb4544a6-b43b-486c-b8a9-0689382251dc",
   "metadata": {},
   "outputs": [
    {
     "data": {
      "text/html": [
       "<div>\n",
       "<style scoped>\n",
       "    .dataframe tbody tr th:only-of-type {\n",
       "        vertical-align: middle;\n",
       "    }\n",
       "\n",
       "    .dataframe tbody tr th {\n",
       "        vertical-align: top;\n",
       "    }\n",
       "\n",
       "    .dataframe thead th {\n",
       "        text-align: right;\n",
       "    }\n",
       "</style>\n",
       "<table border=\"1\" class=\"dataframe\">\n",
       "  <thead>\n",
       "    <tr style=\"text-align: right;\">\n",
       "      <th></th>\n",
       "      <th>OrderID</th>\n",
       "      <th>Employee_Name</th>\n",
       "      <th>Shipping_Company</th>\n",
       "      <th>Ship_City</th>\n",
       "      <th>OrderDate</th>\n",
       "      <th>ShippedDate</th>\n",
       "      <th>Freight</th>\n",
       "      <th>Late_By</th>\n",
       "      <th>waiting_period</th>\n",
       "    </tr>\n",
       "  </thead>\n",
       "  <tbody>\n",
       "    <tr>\n",
       "      <th>0</th>\n",
       "      <td>10970</td>\n",
       "      <td>Dodsworth Anne</td>\n",
       "      <td>Speedy Express</td>\n",
       "      <td>Madrid</td>\n",
       "      <td>1998-03-24</td>\n",
       "      <td>1998-04-24</td>\n",
       "      <td>16.16</td>\n",
       "      <td>17</td>\n",
       "      <td>31.0</td>\n",
       "    </tr>\n",
       "    <tr>\n",
       "      <th>1</th>\n",
       "      <td>10828</td>\n",
       "      <td>Dodsworth Anne</td>\n",
       "      <td>Speedy Express</td>\n",
       "      <td>Buenos Aires</td>\n",
       "      <td>1998-01-13</td>\n",
       "      <td>1998-02-04</td>\n",
       "      <td>90.85</td>\n",
       "      <td>8</td>\n",
       "      <td>22.0</td>\n",
       "    </tr>\n",
       "    <tr>\n",
       "      <th>2</th>\n",
       "      <td>10660</td>\n",
       "      <td>Callahan Laura</td>\n",
       "      <td>Speedy Express</td>\n",
       "      <td>Elgin</td>\n",
       "      <td>1997-09-08</td>\n",
       "      <td>1997-10-15</td>\n",
       "      <td>111.29</td>\n",
       "      <td>9</td>\n",
       "      <td>37.0</td>\n",
       "    </tr>\n",
       "    <tr>\n",
       "      <th>3</th>\n",
       "      <td>10596</td>\n",
       "      <td>Callahan Laura</td>\n",
       "      <td>Speedy Express</td>\n",
       "      <td>Seattle</td>\n",
       "      <td>1997-07-11</td>\n",
       "      <td>1997-08-12</td>\n",
       "      <td>16.34</td>\n",
       "      <td>4</td>\n",
       "      <td>32.0</td>\n",
       "    </tr>\n",
       "    <tr>\n",
       "      <th>4</th>\n",
       "      <td>10927</td>\n",
       "      <td>Peacock Margaret</td>\n",
       "      <td>Speedy Express</td>\n",
       "      <td>Versailles</td>\n",
       "      <td>1998-03-05</td>\n",
       "      <td>1998-04-08</td>\n",
       "      <td>19.79</td>\n",
       "      <td>6</td>\n",
       "      <td>34.0</td>\n",
       "    </tr>\n",
       "    <tr>\n",
       "      <th>5</th>\n",
       "      <td>10807</td>\n",
       "      <td>Peacock Margaret</td>\n",
       "      <td>Speedy Express</td>\n",
       "      <td>Torino</td>\n",
       "      <td>1997-12-31</td>\n",
       "      <td>1998-01-30</td>\n",
       "      <td>1.36</td>\n",
       "      <td>2</td>\n",
       "      <td>30.0</td>\n",
       "    </tr>\n",
       "    <tr>\n",
       "      <th>6</th>\n",
       "      <td>10726</td>\n",
       "      <td>Peacock Margaret</td>\n",
       "      <td>Speedy Express</td>\n",
       "      <td>London</td>\n",
       "      <td>1997-11-03</td>\n",
       "      <td>1997-12-05</td>\n",
       "      <td>16.56</td>\n",
       "      <td>18</td>\n",
       "      <td>32.0</td>\n",
       "    </tr>\n",
       "    <tr>\n",
       "      <th>7</th>\n",
       "      <td>10960</td>\n",
       "      <td>Leverling Janet</td>\n",
       "      <td>Speedy Express</td>\n",
       "      <td>San Cristbal</td>\n",
       "      <td>1998-03-19</td>\n",
       "      <td>1998-04-08</td>\n",
       "      <td>2.08</td>\n",
       "      <td>6</td>\n",
       "      <td>20.0</td>\n",
       "    </tr>\n",
       "    <tr>\n",
       "      <th>8</th>\n",
       "      <td>10309</td>\n",
       "      <td>Leverling Janet</td>\n",
       "      <td>Speedy Express</td>\n",
       "      <td>Cork</td>\n",
       "      <td>1996-09-19</td>\n",
       "      <td>1996-10-23</td>\n",
       "      <td>47.30</td>\n",
       "      <td>6</td>\n",
       "      <td>34.0</td>\n",
       "    </tr>\n",
       "    <tr>\n",
       "      <th>9</th>\n",
       "      <td>10727</td>\n",
       "      <td>Fuller Andrew</td>\n",
       "      <td>Speedy Express</td>\n",
       "      <td>Reggio Emilia</td>\n",
       "      <td>1997-11-03</td>\n",
       "      <td>1997-12-05</td>\n",
       "      <td>89.90</td>\n",
       "      <td>4</td>\n",
       "      <td>32.0</td>\n",
       "    </tr>\n",
       "  </tbody>\n",
       "</table>\n",
       "</div>"
      ],
      "text/plain": [
       "   OrderID     Employee_Name Shipping_Company      Ship_City  OrderDate  \\\n",
       "0    10970    Dodsworth Anne   Speedy Express         Madrid 1998-03-24   \n",
       "1    10828    Dodsworth Anne   Speedy Express   Buenos Aires 1998-01-13   \n",
       "2    10660    Callahan Laura   Speedy Express          Elgin 1997-09-08   \n",
       "3    10596    Callahan Laura   Speedy Express        Seattle 1997-07-11   \n",
       "4    10927  Peacock Margaret   Speedy Express     Versailles 1998-03-05   \n",
       "5    10807  Peacock Margaret   Speedy Express         Torino 1997-12-31   \n",
       "6    10726  Peacock Margaret   Speedy Express         London 1997-11-03   \n",
       "7    10960   Leverling Janet   Speedy Express   San Cristbal 1998-03-19   \n",
       "8    10309   Leverling Janet   Speedy Express           Cork 1996-09-19   \n",
       "9    10727     Fuller Andrew   Speedy Express  Reggio Emilia 1997-11-03   \n",
       "\n",
       "  ShippedDate  Freight  Late_By  waiting_period  \n",
       "0  1998-04-24    16.16       17            31.0  \n",
       "1  1998-02-04    90.85        8            22.0  \n",
       "2  1997-10-15   111.29        9            37.0  \n",
       "3  1997-08-12    16.34        4            32.0  \n",
       "4  1998-04-08    19.79        6            34.0  \n",
       "5  1998-01-30     1.36        2            30.0  \n",
       "6  1997-12-05    16.56       18            32.0  \n",
       "7  1998-04-08     2.08        6            20.0  \n",
       "8  1996-10-23    47.30        6            34.0  \n",
       "9  1997-12-05    89.90        4            32.0  "
      ]
     },
     "execution_count": 67,
     "metadata": {},
     "output_type": "execute_result"
    }
   ],
   "source": [
    "shippers_df.head(10)"
   ]
  },
  {
   "cell_type": "markdown",
   "id": "38773b94-bef0-4f2a-98d4-db48bd573d3b",
   "metadata": {},
   "source": [
    "# Exploratory Data Analysis Using 2-Way ANOVA"
   ]
  },
  {
   "cell_type": "markdown",
   "id": "ddf00482-4083-44ef-96c9-4db5142855ac",
   "metadata": {},
   "source": [
    "## Performing a 2-way ANOVA."
   ]
  },
  {
   "cell_type": "markdown",
   "id": "b00faa6c-b18d-48ca-b5f7-fba9546c9477",
   "metadata": {},
   "source": [
    "Two-way ANOVA is a statistical method used to analyze the effect of two categorical variables on a continuous variable. Assumes normality, homogeneity of variance, and independence of observations. e.g., Investigating the effects of gender and age on sales performance."
   ]
  },
  {
   "cell_type": "code",
   "execution_count": 69,
   "id": "afdd1d41-426f-4386-ac56-e1d36b2ee740",
   "metadata": {},
   "outputs": [
    {
     "name": "stdout",
     "output_type": "stream",
     "text": [
      "There are 9 unique Employee_Name\n",
      "There are 3 unique Shipping_Company\n",
      "There are 26 unique Ship_City\n"
     ]
    }
   ],
   "source": [
    "# counting the number of unique elements in our categorical variable columns.\n",
    "\n",
    "cols = ['Employee_Name', 'Shipping_Company', 'Ship_City']\n",
    "\n",
    "for col in cols:\n",
    "    a = shippers_df[col].nunique()\n",
    "    print(f'There are {a} unique {col}')"
   ]
  },
  {
   "cell_type": "code",
   "execution_count": 72,
   "id": "8f02c767-711a-4a0f-9c26-f07e45a253df",
   "metadata": {},
   "outputs": [
    {
     "data": {
      "text/html": [
       "<div>\n",
       "<style scoped>\n",
       "    .dataframe tbody tr th:only-of-type {\n",
       "        vertical-align: middle;\n",
       "    }\n",
       "\n",
       "    .dataframe tbody tr th {\n",
       "        vertical-align: top;\n",
       "    }\n",
       "\n",
       "    .dataframe thead th {\n",
       "        text-align: right;\n",
       "    }\n",
       "</style>\n",
       "<table border=\"1\" class=\"dataframe\">\n",
       "  <thead>\n",
       "    <tr style=\"text-align: right;\">\n",
       "      <th>Shipping_Company</th>\n",
       "      <th>Federal Shipping</th>\n",
       "      <th>Speedy Express</th>\n",
       "      <th>United Package</th>\n",
       "      <th>All</th>\n",
       "    </tr>\n",
       "    <tr>\n",
       "      <th>Employee_Name</th>\n",
       "      <th></th>\n",
       "      <th></th>\n",
       "      <th></th>\n",
       "      <th></th>\n",
       "    </tr>\n",
       "  </thead>\n",
       "  <tbody>\n",
       "    <tr>\n",
       "      <th>Buchanan Steven</th>\n",
       "      <td>1</td>\n",
       "      <td>0</td>\n",
       "      <td>0</td>\n",
       "      <td>1</td>\n",
       "    </tr>\n",
       "    <tr>\n",
       "      <th>Callahan Laura</th>\n",
       "      <td>1</td>\n",
       "      <td>2</td>\n",
       "      <td>1</td>\n",
       "      <td>4</td>\n",
       "    </tr>\n",
       "    <tr>\n",
       "      <th>Davolio Nancy</th>\n",
       "      <td>1</td>\n",
       "      <td>0</td>\n",
       "      <td>1</td>\n",
       "      <td>2</td>\n",
       "    </tr>\n",
       "    <tr>\n",
       "      <th>Dodsworth Anne</th>\n",
       "      <td>0</td>\n",
       "      <td>2</td>\n",
       "      <td>2</td>\n",
       "      <td>4</td>\n",
       "    </tr>\n",
       "    <tr>\n",
       "      <th>Fuller Andrew</th>\n",
       "      <td>0</td>\n",
       "      <td>3</td>\n",
       "      <td>1</td>\n",
       "      <td>4</td>\n",
       "    </tr>\n",
       "    <tr>\n",
       "      <th>King Robert</th>\n",
       "      <td>0</td>\n",
       "      <td>0</td>\n",
       "      <td>4</td>\n",
       "      <td>4</td>\n",
       "    </tr>\n",
       "    <tr>\n",
       "      <th>Leverling Janet</th>\n",
       "      <td>1</td>\n",
       "      <td>2</td>\n",
       "      <td>2</td>\n",
       "      <td>5</td>\n",
       "    </tr>\n",
       "    <tr>\n",
       "      <th>Peacock Margaret</th>\n",
       "      <td>3</td>\n",
       "      <td>3</td>\n",
       "      <td>4</td>\n",
       "      <td>10</td>\n",
       "    </tr>\n",
       "    <tr>\n",
       "      <th>Suyama Michael</th>\n",
       "      <td>2</td>\n",
       "      <td>0</td>\n",
       "      <td>1</td>\n",
       "      <td>3</td>\n",
       "    </tr>\n",
       "    <tr>\n",
       "      <th>All</th>\n",
       "      <td>9</td>\n",
       "      <td>12</td>\n",
       "      <td>16</td>\n",
       "      <td>37</td>\n",
       "    </tr>\n",
       "  </tbody>\n",
       "</table>\n",
       "</div>"
      ],
      "text/plain": [
       "Shipping_Company  Federal Shipping  Speedy Express  United Package  All\n",
       "Employee_Name                                                          \n",
       "Buchanan Steven                  1               0               0    1\n",
       "Callahan Laura                   1               2               1    4\n",
       "Davolio Nancy                    1               0               1    2\n",
       "Dodsworth Anne                   0               2               2    4\n",
       "Fuller Andrew                    0               3               1    4\n",
       "King Robert                      0               0               4    4\n",
       "Leverling Janet                  1               2               2    5\n",
       "Peacock Margaret                 3               3               4   10\n",
       "Suyama Michael                   2               0               1    3\n",
       "All                              9              12              16   37"
      ]
     },
     "execution_count": 72,
     "metadata": {},
     "output_type": "execute_result"
    }
   ],
   "source": [
    "pd.crosstab(shippers_df[\"Employee_Name\"], shippers_df[\"Shipping_Company\"], margins=True)"
   ]
  },
  {
   "cell_type": "markdown",
   "id": "ac4a6789-9c75-4a88-9640-d005affbe508",
   "metadata": {},
   "source": [
    "Checking the total number of late orders by Employees and the Shipping companies used using histogram"
   ]
  },
  {
   "cell_type": "code",
   "execution_count": 98,
   "id": "f4ec52da-4566-41e5-9c27-d6283fc6a593",
   "metadata": {},
   "outputs": [
    {
     "data": {
      "application/vnd.plotly.v1+json": {
       "config": {
        "plotlyServerURL": "https://plot.ly"
       },
       "data": [
        {
         "alignmentgroup": "True",
         "bingroup": "x",
         "histfunc": "count",
         "hovertemplate": "Shipping_Company=Speedy Express<br>Employee=%{x}<br>count=%{y}<extra></extra>",
         "legendgroup": "Speedy Express",
         "marker": {
          "color": "#636efa",
          "pattern": {
           "shape": ""
          }
         },
         "name": "Speedy Express",
         "offsetgroup": "Speedy Express",
         "orientation": "v",
         "showlegend": true,
         "type": "histogram",
         "x": [
          "Dodsworth Anne",
          "Dodsworth Anne",
          "Callahan Laura",
          "Callahan Laura",
          "Peacock Margaret",
          "Peacock Margaret",
          "Peacock Margaret",
          "Leverling Janet",
          "Leverling Janet",
          "Fuller Andrew",
          "Fuller Andrew",
          "Fuller Andrew"
         ],
         "xaxis": "x",
         "y": [
          10970,
          10828,
          10660,
          10596,
          10927,
          10807,
          10726,
          10960,
          10309,
          10727,
          10515,
          10280
         ],
         "yaxis": "y"
        },
        {
         "alignmentgroup": "True",
         "bingroup": "x",
         "histfunc": "count",
         "hovertemplate": "Shipping_Company=United Package<br>Employee=%{x}<br>count=%{y}<extra></extra>",
         "legendgroup": "United Package",
         "marker": {
          "color": "#EF553B",
          "pattern": {
           "shape": ""
          }
         },
         "name": "United Package",
         "offsetgroup": "United Package",
         "orientation": "v",
         "showlegend": true,
         "type": "histogram",
         "x": [
          "Dodsworth Anne",
          "Dodsworth Anne",
          "Callahan Laura",
          "King Robert",
          "King Robert",
          "King Robert",
          "King Robert",
          "Suyama Michael",
          "Peacock Margaret",
          "Peacock Margaret",
          "Peacock Margaret",
          "Peacock Margaret",
          "Leverling Janet",
          "Leverling Janet",
          "Fuller Andrew",
          "Davolio Nancy"
         ],
         "xaxis": "x",
         "y": [
          10705,
          10687,
          10545,
          10777,
          10593,
          10523,
          10483,
          10271,
          10816,
          10749,
          10427,
          10302,
          10924,
          10779,
          10663,
          10827
         ],
         "yaxis": "y"
        },
        {
         "alignmentgroup": "True",
         "bingroup": "x",
         "histfunc": "count",
         "hovertemplate": "Shipping_Company=Federal Shipping<br>Employee=%{x}<br>count=%{y}<extra></extra>",
         "legendgroup": "Federal Shipping",
         "marker": {
          "color": "#00cc96",
          "pattern": {
           "shape": ""
          }
         },
         "name": "Federal Shipping",
         "offsetgroup": "Federal Shipping",
         "orientation": "v",
         "showlegend": true,
         "type": "histogram",
         "x": [
          "Callahan Laura",
          "Suyama Michael",
          "Suyama Michael",
          "Buchanan Steven",
          "Peacock Margaret",
          "Peacock Margaret",
          "Peacock Margaret",
          "Leverling Janet",
          "Davolio Nancy"
         ],
         "xaxis": "x",
         "y": [
          10380,
          10423,
          10264,
          10320,
          10847,
          10578,
          10451,
          10433,
          10709
         ],
         "yaxis": "y"
        }
       ],
       "layout": {
        "autosize": true,
        "barmode": "group",
        "legend": {
         "title": {
          "text": "Shipping_Company"
         },
         "tracegroupgap": 0
        },
        "template": {
         "data": {
          "bar": [
           {
            "error_x": {
             "color": "#2a3f5f"
            },
            "error_y": {
             "color": "#2a3f5f"
            },
            "marker": {
             "line": {
              "color": "#E5ECF6",
              "width": 0.5
             },
             "pattern": {
              "fillmode": "overlay",
              "size": 10,
              "solidity": 0.2
             }
            },
            "type": "bar"
           }
          ],
          "barpolar": [
           {
            "marker": {
             "line": {
              "color": "#E5ECF6",
              "width": 0.5
             },
             "pattern": {
              "fillmode": "overlay",
              "size": 10,
              "solidity": 0.2
             }
            },
            "type": "barpolar"
           }
          ],
          "carpet": [
           {
            "aaxis": {
             "endlinecolor": "#2a3f5f",
             "gridcolor": "white",
             "linecolor": "white",
             "minorgridcolor": "white",
             "startlinecolor": "#2a3f5f"
            },
            "baxis": {
             "endlinecolor": "#2a3f5f",
             "gridcolor": "white",
             "linecolor": "white",
             "minorgridcolor": "white",
             "startlinecolor": "#2a3f5f"
            },
            "type": "carpet"
           }
          ],
          "choropleth": [
           {
            "colorbar": {
             "outlinewidth": 0,
             "ticks": ""
            },
            "type": "choropleth"
           }
          ],
          "contour": [
           {
            "colorbar": {
             "outlinewidth": 0,
             "ticks": ""
            },
            "colorscale": [
             [
              0,
              "#0d0887"
             ],
             [
              0.1111111111111111,
              "#46039f"
             ],
             [
              0.2222222222222222,
              "#7201a8"
             ],
             [
              0.3333333333333333,
              "#9c179e"
             ],
             [
              0.4444444444444444,
              "#bd3786"
             ],
             [
              0.5555555555555556,
              "#d8576b"
             ],
             [
              0.6666666666666666,
              "#ed7953"
             ],
             [
              0.7777777777777778,
              "#fb9f3a"
             ],
             [
              0.8888888888888888,
              "#fdca26"
             ],
             [
              1,
              "#f0f921"
             ]
            ],
            "type": "contour"
           }
          ],
          "contourcarpet": [
           {
            "colorbar": {
             "outlinewidth": 0,
             "ticks": ""
            },
            "type": "contourcarpet"
           }
          ],
          "heatmap": [
           {
            "colorbar": {
             "outlinewidth": 0,
             "ticks": ""
            },
            "colorscale": [
             [
              0,
              "#0d0887"
             ],
             [
              0.1111111111111111,
              "#46039f"
             ],
             [
              0.2222222222222222,
              "#7201a8"
             ],
             [
              0.3333333333333333,
              "#9c179e"
             ],
             [
              0.4444444444444444,
              "#bd3786"
             ],
             [
              0.5555555555555556,
              "#d8576b"
             ],
             [
              0.6666666666666666,
              "#ed7953"
             ],
             [
              0.7777777777777778,
              "#fb9f3a"
             ],
             [
              0.8888888888888888,
              "#fdca26"
             ],
             [
              1,
              "#f0f921"
             ]
            ],
            "type": "heatmap"
           }
          ],
          "heatmapgl": [
           {
            "colorbar": {
             "outlinewidth": 0,
             "ticks": ""
            },
            "colorscale": [
             [
              0,
              "#0d0887"
             ],
             [
              0.1111111111111111,
              "#46039f"
             ],
             [
              0.2222222222222222,
              "#7201a8"
             ],
             [
              0.3333333333333333,
              "#9c179e"
             ],
             [
              0.4444444444444444,
              "#bd3786"
             ],
             [
              0.5555555555555556,
              "#d8576b"
             ],
             [
              0.6666666666666666,
              "#ed7953"
             ],
             [
              0.7777777777777778,
              "#fb9f3a"
             ],
             [
              0.8888888888888888,
              "#fdca26"
             ],
             [
              1,
              "#f0f921"
             ]
            ],
            "type": "heatmapgl"
           }
          ],
          "histogram": [
           {
            "marker": {
             "pattern": {
              "fillmode": "overlay",
              "size": 10,
              "solidity": 0.2
             }
            },
            "type": "histogram"
           }
          ],
          "histogram2d": [
           {
            "colorbar": {
             "outlinewidth": 0,
             "ticks": ""
            },
            "colorscale": [
             [
              0,
              "#0d0887"
             ],
             [
              0.1111111111111111,
              "#46039f"
             ],
             [
              0.2222222222222222,
              "#7201a8"
             ],
             [
              0.3333333333333333,
              "#9c179e"
             ],
             [
              0.4444444444444444,
              "#bd3786"
             ],
             [
              0.5555555555555556,
              "#d8576b"
             ],
             [
              0.6666666666666666,
              "#ed7953"
             ],
             [
              0.7777777777777778,
              "#fb9f3a"
             ],
             [
              0.8888888888888888,
              "#fdca26"
             ],
             [
              1,
              "#f0f921"
             ]
            ],
            "type": "histogram2d"
           }
          ],
          "histogram2dcontour": [
           {
            "colorbar": {
             "outlinewidth": 0,
             "ticks": ""
            },
            "colorscale": [
             [
              0,
              "#0d0887"
             ],
             [
              0.1111111111111111,
              "#46039f"
             ],
             [
              0.2222222222222222,
              "#7201a8"
             ],
             [
              0.3333333333333333,
              "#9c179e"
             ],
             [
              0.4444444444444444,
              "#bd3786"
             ],
             [
              0.5555555555555556,
              "#d8576b"
             ],
             [
              0.6666666666666666,
              "#ed7953"
             ],
             [
              0.7777777777777778,
              "#fb9f3a"
             ],
             [
              0.8888888888888888,
              "#fdca26"
             ],
             [
              1,
              "#f0f921"
             ]
            ],
            "type": "histogram2dcontour"
           }
          ],
          "mesh3d": [
           {
            "colorbar": {
             "outlinewidth": 0,
             "ticks": ""
            },
            "type": "mesh3d"
           }
          ],
          "parcoords": [
           {
            "line": {
             "colorbar": {
              "outlinewidth": 0,
              "ticks": ""
             }
            },
            "type": "parcoords"
           }
          ],
          "pie": [
           {
            "automargin": true,
            "type": "pie"
           }
          ],
          "scatter": [
           {
            "fillpattern": {
             "fillmode": "overlay",
             "size": 10,
             "solidity": 0.2
            },
            "type": "scatter"
           }
          ],
          "scatter3d": [
           {
            "line": {
             "colorbar": {
              "outlinewidth": 0,
              "ticks": ""
             }
            },
            "marker": {
             "colorbar": {
              "outlinewidth": 0,
              "ticks": ""
             }
            },
            "type": "scatter3d"
           }
          ],
          "scattercarpet": [
           {
            "marker": {
             "colorbar": {
              "outlinewidth": 0,
              "ticks": ""
             }
            },
            "type": "scattercarpet"
           }
          ],
          "scattergeo": [
           {
            "marker": {
             "colorbar": {
              "outlinewidth": 0,
              "ticks": ""
             }
            },
            "type": "scattergeo"
           }
          ],
          "scattergl": [
           {
            "marker": {
             "colorbar": {
              "outlinewidth": 0,
              "ticks": ""
             }
            },
            "type": "scattergl"
           }
          ],
          "scattermapbox": [
           {
            "marker": {
             "colorbar": {
              "outlinewidth": 0,
              "ticks": ""
             }
            },
            "type": "scattermapbox"
           }
          ],
          "scatterpolar": [
           {
            "marker": {
             "colorbar": {
              "outlinewidth": 0,
              "ticks": ""
             }
            },
            "type": "scatterpolar"
           }
          ],
          "scatterpolargl": [
           {
            "marker": {
             "colorbar": {
              "outlinewidth": 0,
              "ticks": ""
             }
            },
            "type": "scatterpolargl"
           }
          ],
          "scatterternary": [
           {
            "marker": {
             "colorbar": {
              "outlinewidth": 0,
              "ticks": ""
             }
            },
            "type": "scatterternary"
           }
          ],
          "surface": [
           {
            "colorbar": {
             "outlinewidth": 0,
             "ticks": ""
            },
            "colorscale": [
             [
              0,
              "#0d0887"
             ],
             [
              0.1111111111111111,
              "#46039f"
             ],
             [
              0.2222222222222222,
              "#7201a8"
             ],
             [
              0.3333333333333333,
              "#9c179e"
             ],
             [
              0.4444444444444444,
              "#bd3786"
             ],
             [
              0.5555555555555556,
              "#d8576b"
             ],
             [
              0.6666666666666666,
              "#ed7953"
             ],
             [
              0.7777777777777778,
              "#fb9f3a"
             ],
             [
              0.8888888888888888,
              "#fdca26"
             ],
             [
              1,
              "#f0f921"
             ]
            ],
            "type": "surface"
           }
          ],
          "table": [
           {
            "cells": {
             "fill": {
              "color": "#EBF0F8"
             },
             "line": {
              "color": "white"
             }
            },
            "header": {
             "fill": {
              "color": "#C8D4E3"
             },
             "line": {
              "color": "white"
             }
            },
            "type": "table"
           }
          ]
         },
         "layout": {
          "annotationdefaults": {
           "arrowcolor": "#2a3f5f",
           "arrowhead": 0,
           "arrowwidth": 1
          },
          "autotypenumbers": "strict",
          "coloraxis": {
           "colorbar": {
            "outlinewidth": 0,
            "ticks": ""
           }
          },
          "colorscale": {
           "diverging": [
            [
             0,
             "#8e0152"
            ],
            [
             0.1,
             "#c51b7d"
            ],
            [
             0.2,
             "#de77ae"
            ],
            [
             0.3,
             "#f1b6da"
            ],
            [
             0.4,
             "#fde0ef"
            ],
            [
             0.5,
             "#f7f7f7"
            ],
            [
             0.6,
             "#e6f5d0"
            ],
            [
             0.7,
             "#b8e186"
            ],
            [
             0.8,
             "#7fbc41"
            ],
            [
             0.9,
             "#4d9221"
            ],
            [
             1,
             "#276419"
            ]
           ],
           "sequential": [
            [
             0,
             "#0d0887"
            ],
            [
             0.1111111111111111,
             "#46039f"
            ],
            [
             0.2222222222222222,
             "#7201a8"
            ],
            [
             0.3333333333333333,
             "#9c179e"
            ],
            [
             0.4444444444444444,
             "#bd3786"
            ],
            [
             0.5555555555555556,
             "#d8576b"
            ],
            [
             0.6666666666666666,
             "#ed7953"
            ],
            [
             0.7777777777777778,
             "#fb9f3a"
            ],
            [
             0.8888888888888888,
             "#fdca26"
            ],
            [
             1,
             "#f0f921"
            ]
           ],
           "sequentialminus": [
            [
             0,
             "#0d0887"
            ],
            [
             0.1111111111111111,
             "#46039f"
            ],
            [
             0.2222222222222222,
             "#7201a8"
            ],
            [
             0.3333333333333333,
             "#9c179e"
            ],
            [
             0.4444444444444444,
             "#bd3786"
            ],
            [
             0.5555555555555556,
             "#d8576b"
            ],
            [
             0.6666666666666666,
             "#ed7953"
            ],
            [
             0.7777777777777778,
             "#fb9f3a"
            ],
            [
             0.8888888888888888,
             "#fdca26"
            ],
            [
             1,
             "#f0f921"
            ]
           ]
          },
          "colorway": [
           "#636efa",
           "#EF553B",
           "#00cc96",
           "#ab63fa",
           "#FFA15A",
           "#19d3f3",
           "#FF6692",
           "#B6E880",
           "#FF97FF",
           "#FECB52"
          ],
          "font": {
           "color": "#2a3f5f"
          },
          "geo": {
           "bgcolor": "white",
           "lakecolor": "white",
           "landcolor": "#E5ECF6",
           "showlakes": true,
           "showland": true,
           "subunitcolor": "white"
          },
          "hoverlabel": {
           "align": "left"
          },
          "hovermode": "closest",
          "mapbox": {
           "style": "light"
          },
          "paper_bgcolor": "white",
          "plot_bgcolor": "#E5ECF6",
          "polar": {
           "angularaxis": {
            "gridcolor": "white",
            "linecolor": "white",
            "ticks": ""
           },
           "bgcolor": "#E5ECF6",
           "radialaxis": {
            "gridcolor": "white",
            "linecolor": "white",
            "ticks": ""
           }
          },
          "scene": {
           "xaxis": {
            "backgroundcolor": "#E5ECF6",
            "gridcolor": "white",
            "gridwidth": 2,
            "linecolor": "white",
            "showbackground": true,
            "ticks": "",
            "zerolinecolor": "white"
           },
           "yaxis": {
            "backgroundcolor": "#E5ECF6",
            "gridcolor": "white",
            "gridwidth": 2,
            "linecolor": "white",
            "showbackground": true,
            "ticks": "",
            "zerolinecolor": "white"
           },
           "zaxis": {
            "backgroundcolor": "#E5ECF6",
            "gridcolor": "white",
            "gridwidth": 2,
            "linecolor": "white",
            "showbackground": true,
            "ticks": "",
            "zerolinecolor": "white"
           }
          },
          "shapedefaults": {
           "line": {
            "color": "#2a3f5f"
           }
          },
          "ternary": {
           "aaxis": {
            "gridcolor": "white",
            "linecolor": "white",
            "ticks": ""
           },
           "baxis": {
            "gridcolor": "white",
            "linecolor": "white",
            "ticks": ""
           },
           "bgcolor": "#E5ECF6",
           "caxis": {
            "gridcolor": "white",
            "linecolor": "white",
            "ticks": ""
           }
          },
          "title": {
           "x": 0.05
          },
          "xaxis": {
           "automargin": true,
           "gridcolor": "white",
           "linecolor": "white",
           "ticks": "",
           "title": {
            "standoff": 15
           },
           "zerolinecolor": "white",
           "zerolinewidth": 2
          },
          "yaxis": {
           "automargin": true,
           "gridcolor": "white",
           "linecolor": "white",
           "ticks": "",
           "title": {
            "standoff": 15
           },
           "zerolinecolor": "white",
           "zerolinewidth": 2
          }
         }
        },
        "title": {
         "text": "EMPLOYEES TOTAL LATE ORDERS BY SHIPPING COMPANIES"
        },
        "xaxis": {
         "anchor": "y",
         "autorange": true,
         "domain": [
          0,
          1
         ],
         "range": [
          -0.5,
          8.5
         ],
         "title": {
          "text": "Employee"
         },
         "type": "category"
        },
        "yaxis": {
         "anchor": "x",
         "autorange": true,
         "domain": [
          0,
          1
         ],
         "range": [
          0,
          4.2105263157894735
         ],
         "title": {
          "text": "count"
         },
         "type": "linear"
        }
       }
      },
      "image/png": "[encoded data removed]",
      "text/html": [
       "<div>                            <div id=\"b555cef6-6430-4328-82dc-7f6de146bf33\" class=\"plotly-graph-div\" style=\"height:400px; width:100%;\"></div>            <script type=\"text/javascript\">                require([\"plotly\"], function(Plotly) {                    window.PLOTLYENV=window.PLOTLYENV || {};                                    if (document.getElementById(\"b555cef6-6430-4328-82dc-7f6de146bf33\")) {                    Plotly.newPlot(                        \"b555cef6-6430-4328-82dc-7f6de146bf33\",                        [{\"alignmentgroup\":\"True\",\"bingroup\":\"x\",\"histfunc\":\"count\",\"hovertemplate\":\"Shipping_Company=Speedy Express<br>Employee=%{x}<br>count=%{y}<extra></extra>\",\"legendgroup\":\"Speedy Express\",\"marker\":{\"color\":\"#636efa\",\"pattern\":{\"shape\":\"\"}},\"name\":\"Speedy Express\",\"offsetgroup\":\"Speedy Express\",\"orientation\":\"v\",\"showlegend\":true,\"x\":[\"Dodsworth Anne\",\"Dodsworth Anne\",\"Callahan Laura\",\"Callahan Laura\",\"Peacock Margaret\",\"Peacock Margaret\",\"Peacock Margaret\",\"Leverling Janet\",\"Leverling Janet\",\"Fuller Andrew\",\"Fuller Andrew\",\"Fuller Andrew\"],\"xaxis\":\"x\",\"y\":[10970,10828,10660,10596,10927,10807,10726,10960,10309,10727,10515,10280],\"yaxis\":\"y\",\"type\":\"histogram\"},{\"alignmentgroup\":\"True\",\"bingroup\":\"x\",\"histfunc\":\"count\",\"hovertemplate\":\"Shipping_Company=United Package<br>Employee=%{x}<br>count=%{y}<extra></extra>\",\"legendgroup\":\"United Package\",\"marker\":{\"color\":\"#EF553B\",\"pattern\":{\"shape\":\"\"}},\"name\":\"United Package\",\"offsetgroup\":\"United Package\",\"orientation\":\"v\",\"showlegend\":true,\"x\":[\"Dodsworth Anne\",\"Dodsworth Anne\",\"Callahan Laura\",\"King Robert\",\"King Robert\",\"King Robert\",\"King Robert\",\"Suyama Michael\",\"Peacock Margaret\",\"Peacock Margaret\",\"Peacock Margaret\",\"Peacock Margaret\",\"Leverling Janet\",\"Leverling Janet\",\"Fuller Andrew\",\"Davolio Nancy\"],\"xaxis\":\"x\",\"y\":[10705,10687,10545,10777,10593,10523,10483,10271,10816,10749,10427,10302,10924,10779,10663,10827],\"yaxis\":\"y\",\"type\":\"histogram\"},{\"alignmentgroup\":\"True\",\"bingroup\":\"x\",\"histfunc\":\"count\",\"hovertemplate\":\"Shipping_Company=Federal Shipping<br>Employee=%{x}<br>count=%{y}<extra></extra>\",\"legendgroup\":\"Federal Shipping\",\"marker\":{\"color\":\"#00cc96\",\"pattern\":{\"shape\":\"\"}},\"name\":\"Federal Shipping\",\"offsetgroup\":\"Federal Shipping\",\"orientation\":\"v\",\"showlegend\":true,\"x\":[\"Callahan Laura\",\"Suyama Michael\",\"Suyama Michael\",\"Buchanan Steven\",\"Peacock Margaret\",\"Peacock Margaret\",\"Peacock Margaret\",\"Leverling Janet\",\"Davolio Nancy\"],\"xaxis\":\"x\",\"y\":[10380,10423,10264,10320,10847,10578,10451,10433,10709],\"yaxis\":\"y\",\"type\":\"histogram\"}],                        {\"template\":{\"data\":{\"histogram2dcontour\":[{\"type\":\"histogram2dcontour\",\"colorbar\":{\"outlinewidth\":0,\"ticks\":\"\"},\"colorscale\":[[0.0,\"#0d0887\"],[0.1111111111111111,\"#46039f\"],[0.2222222222222222,\"#7201a8\"],[0.3333333333333333,\"#9c179e\"],[0.4444444444444444,\"#bd3786\"],[0.5555555555555556,\"#d8576b\"],[0.6666666666666666,\"#ed7953\"],[0.7777777777777778,\"#fb9f3a\"],[0.8888888888888888,\"#fdca26\"],[1.0,\"#f0f921\"]]}],\"choropleth\":[{\"type\":\"choropleth\",\"colorbar\":{\"outlinewidth\":0,\"ticks\":\"\"}}],\"histogram2d\":[{\"type\":\"histogram2d\",\"colorbar\":{\"outlinewidth\":0,\"ticks\":\"\"},\"colorscale\":[[0.0,\"#0d0887\"],[0.1111111111111111,\"#46039f\"],[0.2222222222222222,\"#7201a8\"],[0.3333333333333333,\"#9c179e\"],[0.4444444444444444,\"#bd3786\"],[0.5555555555555556,\"#d8576b\"],[0.6666666666666666,\"#ed7953\"],[0.7777777777777778,\"#fb9f3a\"],[0.8888888888888888,\"#fdca26\"],[1.0,\"#f0f921\"]]}],\"heatmap\":[{\"type\":\"heatmap\",\"colorbar\":{\"outlinewidth\":0,\"ticks\":\"\"},\"colorscale\":[[0.0,\"#0d0887\"],[0.1111111111111111,\"#46039f\"],[0.2222222222222222,\"#7201a8\"],[0.3333333333333333,\"#9c179e\"],[0.4444444444444444,\"#bd3786\"],[0.5555555555555556,\"#d8576b\"],[0.6666666666666666,\"#ed7953\"],[0.7777777777777778,\"#fb9f3a\"],[0.8888888888888888,\"#fdca26\"],[1.0,\"#f0f921\"]]}],\"heatmapgl\":[{\"type\":\"heatmapgl\",\"colorbar\":{\"outlinewidth\":0,\"ticks\":\"\"},\"colorscale\":[[0.0,\"#0d0887\"],[0.1111111111111111,\"#46039f\"],[0.2222222222222222,\"#7201a8\"],[0.3333333333333333,\"#9c179e\"],[0.4444444444444444,\"#bd3786\"],[0.5555555555555556,\"#d8576b\"],[0.6666666666666666,\"#ed7953\"],[0.7777777777777778,\"#fb9f3a\"],[0.8888888888888888,\"#fdca26\"],[1.0,\"#f0f921\"]]}],\"contourcarpet\":[{\"type\":\"contourcarpet\",\"colorbar\":{\"outlinewidth\":0,\"ticks\":\"\"}}],\"contour\":[{\"type\":\"contour\",\"colorbar\":{\"outlinewidth\":0,\"ticks\":\"\"},\"colorscale\":[[0.0,\"#0d0887\"],[0.1111111111111111,\"#46039f\"],[0.2222222222222222,\"#7201a8\"],[0.3333333333333333,\"#9c179e\"],[0.4444444444444444,\"#bd3786\"],[0.5555555555555556,\"#d8576b\"],[0.6666666666666666,\"#ed7953\"],[0.7777777777777778,\"#fb9f3a\"],[0.8888888888888888,\"#fdca26\"],[1.0,\"#f0f921\"]]}],\"surface\":[{\"type\":\"surface\",\"colorbar\":{\"outlinewidth\":0,\"ticks\":\"\"},\"colorscale\":[[0.0,\"#0d0887\"],[0.1111111111111111,\"#46039f\"],[0.2222222222222222,\"#7201a8\"],[0.3333333333333333,\"#9c179e\"],[0.4444444444444444,\"#bd3786\"],[0.5555555555555556,\"#d8576b\"],[0.6666666666666666,\"#ed7953\"],[0.7777777777777778,\"#fb9f3a\"],[0.8888888888888888,\"#fdca26\"],[1.0,\"#f0f921\"]]}],\"mesh3d\":[{\"type\":\"mesh3d\",\"colorbar\":{\"outlinewidth\":0,\"ticks\":\"\"}}],\"scatter\":[{\"fillpattern\":{\"fillmode\":\"overlay\",\"size\":10,\"solidity\":0.2},\"type\":\"scatter\"}],\"parcoords\":[{\"type\":\"parcoords\",\"line\":{\"colorbar\":{\"outlinewidth\":0,\"ticks\":\"\"}}}],\"scatterpolargl\":[{\"type\":\"scatterpolargl\",\"marker\":{\"colorbar\":{\"outlinewidth\":0,\"ticks\":\"\"}}}],\"bar\":[{\"error_x\":{\"color\":\"#2a3f5f\"},\"error_y\":{\"color\":\"#2a3f5f\"},\"marker\":{\"line\":{\"color\":\"#E5ECF6\",\"width\":0.5},\"pattern\":{\"fillmode\":\"overlay\",\"size\":10,\"solidity\":0.2}},\"type\":\"bar\"}],\"scattergeo\":[{\"type\":\"scattergeo\",\"marker\":{\"colorbar\":{\"outlinewidth\":0,\"ticks\":\"\"}}}],\"scatterpolar\":[{\"type\":\"scatterpolar\",\"marker\":{\"colorbar\":{\"outlinewidth\":0,\"ticks\":\"\"}}}],\"histogram\":[{\"marker\":{\"pattern\":{\"fillmode\":\"overlay\",\"size\":10,\"solidity\":0.2}},\"type\":\"histogram\"}],\"scattergl\":[{\"type\":\"scattergl\",\"marker\":{\"colorbar\":{\"outlinewidth\":0,\"ticks\":\"\"}}}],\"scatter3d\":[{\"type\":\"scatter3d\",\"line\":{\"colorbar\":{\"outlinewidth\":0,\"ticks\":\"\"}},\"marker\":{\"colorbar\":{\"outlinewidth\":0,\"ticks\":\"\"}}}],\"scattermapbox\":[{\"type\":\"scattermapbox\",\"marker\":{\"colorbar\":{\"outlinewidth\":0,\"ticks\":\"\"}}}],\"scatterternary\":[{\"type\":\"scatterternary\",\"marker\":{\"colorbar\":{\"outlinewidth\":0,\"ticks\":\"\"}}}],\"scattercarpet\":[{\"type\":\"scattercarpet\",\"marker\":{\"colorbar\":{\"outlinewidth\":0,\"ticks\":\"\"}}}],\"carpet\":[{\"aaxis\":{\"endlinecolor\":\"#2a3f5f\",\"gridcolor\":\"white\",\"linecolor\":\"white\",\"minorgridcolor\":\"white\",\"startlinecolor\":\"#2a3f5f\"},\"baxis\":{\"endlinecolor\":\"#2a3f5f\",\"gridcolor\":\"white\",\"linecolor\":\"white\",\"minorgridcolor\":\"white\",\"startlinecolor\":\"#2a3f5f\"},\"type\":\"carpet\"}],\"table\":[{\"cells\":{\"fill\":{\"color\":\"#EBF0F8\"},\"line\":{\"color\":\"white\"}},\"header\":{\"fill\":{\"color\":\"#C8D4E3\"},\"line\":{\"color\":\"white\"}},\"type\":\"table\"}],\"barpolar\":[{\"marker\":{\"line\":{\"color\":\"#E5ECF6\",\"width\":0.5},\"pattern\":{\"fillmode\":\"overlay\",\"size\":10,\"solidity\":0.2}},\"type\":\"barpolar\"}],\"pie\":[{\"automargin\":true,\"type\":\"pie\"}]},\"layout\":{\"autotypenumbers\":\"strict\",\"colorway\":[\"#636efa\",\"#EF553B\",\"#00cc96\",\"#ab63fa\",\"#FFA15A\",\"#19d3f3\",\"#FF6692\",\"#B6E880\",\"#FF97FF\",\"#FECB52\"],\"font\":{\"color\":\"#2a3f5f\"},\"hovermode\":\"closest\",\"hoverlabel\":{\"align\":\"left\"},\"paper_bgcolor\":\"white\",\"plot_bgcolor\":\"#E5ECF6\",\"polar\":{\"bgcolor\":\"#E5ECF6\",\"angularaxis\":{\"gridcolor\":\"white\",\"linecolor\":\"white\",\"ticks\":\"\"},\"radialaxis\":{\"gridcolor\":\"white\",\"linecolor\":\"white\",\"ticks\":\"\"}},\"ternary\":{\"bgcolor\":\"#E5ECF6\",\"aaxis\":{\"gridcolor\":\"white\",\"linecolor\":\"white\",\"ticks\":\"\"},\"baxis\":{\"gridcolor\":\"white\",\"linecolor\":\"white\",\"ticks\":\"\"},\"caxis\":{\"gridcolor\":\"white\",\"linecolor\":\"white\",\"ticks\":\"\"}},\"coloraxis\":{\"colorbar\":{\"outlinewidth\":0,\"ticks\":\"\"}},\"colorscale\":{\"sequential\":[[0.0,\"#0d0887\"],[0.1111111111111111,\"#46039f\"],[0.2222222222222222,\"#7201a8\"],[0.3333333333333333,\"#9c179e\"],[0.4444444444444444,\"#bd3786\"],[0.5555555555555556,\"#d8576b\"],[0.6666666666666666,\"#ed7953\"],[0.7777777777777778,\"#fb9f3a\"],[0.8888888888888888,\"#fdca26\"],[1.0,\"#f0f921\"]],\"sequentialminus\":[[0.0,\"#0d0887\"],[0.1111111111111111,\"#46039f\"],[0.2222222222222222,\"#7201a8\"],[0.3333333333333333,\"#9c179e\"],[0.4444444444444444,\"#bd3786\"],[0.5555555555555556,\"#d8576b\"],[0.6666666666666666,\"#ed7953\"],[0.7777777777777778,\"#fb9f3a\"],[0.8888888888888888,\"#fdca26\"],[1.0,\"#f0f921\"]],\"diverging\":[[0,\"#8e0152\"],[0.1,\"#c51b7d\"],[0.2,\"#de77ae\"],[0.3,\"#f1b6da\"],[0.4,\"#fde0ef\"],[0.5,\"#f7f7f7\"],[0.6,\"#e6f5d0\"],[0.7,\"#b8e186\"],[0.8,\"#7fbc41\"],[0.9,\"#4d9221\"],[1,\"#276419\"]]},\"xaxis\":{\"gridcolor\":\"white\",\"linecolor\":\"white\",\"ticks\":\"\",\"title\":{\"standoff\":15},\"zerolinecolor\":\"white\",\"automargin\":true,\"zerolinewidth\":2},\"yaxis\":{\"gridcolor\":\"white\",\"linecolor\":\"white\",\"ticks\":\"\",\"title\":{\"standoff\":15},\"zerolinecolor\":\"white\",\"automargin\":true,\"zerolinewidth\":2},\"scene\":{\"xaxis\":{\"backgroundcolor\":\"#E5ECF6\",\"gridcolor\":\"white\",\"linecolor\":\"white\",\"showbackground\":true,\"ticks\":\"\",\"zerolinecolor\":\"white\",\"gridwidth\":2},\"yaxis\":{\"backgroundcolor\":\"#E5ECF6\",\"gridcolor\":\"white\",\"linecolor\":\"white\",\"showbackground\":true,\"ticks\":\"\",\"zerolinecolor\":\"white\",\"gridwidth\":2},\"zaxis\":{\"backgroundcolor\":\"#E5ECF6\",\"gridcolor\":\"white\",\"linecolor\":\"white\",\"showbackground\":true,\"ticks\":\"\",\"zerolinecolor\":\"white\",\"gridwidth\":2}},\"shapedefaults\":{\"line\":{\"color\":\"#2a3f5f\"}},\"annotationdefaults\":{\"arrowcolor\":\"#2a3f5f\",\"arrowhead\":0,\"arrowwidth\":1},\"geo\":{\"bgcolor\":\"white\",\"landcolor\":\"#E5ECF6\",\"subunitcolor\":\"white\",\"showland\":true,\"showlakes\":true,\"lakecolor\":\"white\"},\"title\":{\"x\":0.05},\"mapbox\":{\"style\":\"light\"}}},\"xaxis\":{\"anchor\":\"y\",\"domain\":[0.0,1.0],\"title\":{\"text\":\"Employee\"}},\"yaxis\":{\"anchor\":\"x\",\"domain\":[0.0,1.0],\"title\":{\"text\":\"count\"}},\"legend\":{\"title\":{\"text\":\"Shipping_Company\"},\"tracegroupgap\":0},\"title\":{\"text\":\"EMPLOYEES TOTAL LATE ORDERS BY SHIPPING COMPANIES\"},\"barmode\":\"group\",\"height\":400},                        {\"responsive\": true}                    ).then(function(){\n",
       "                            \n",
       "var gd = document.getElementById('b555cef6-6430-4328-82dc-7f6de146bf33');\n",
       "var x = new MutationObserver(function (mutations, observer) {{\n",
       "        var display = window.getComputedStyle(gd).display;\n",
       "        if (!display || display === 'none') {{\n",
       "            console.log([gd, 'removed!']);\n",
       "            Plotly.purge(gd);\n",
       "            observer.disconnect();\n",
       "        }}\n",
       "}});\n",
       "\n",
       "// Listen for the removal of the full notebook cells\n",
       "var notebookContainer = gd.closest('#notebook-container');\n",
       "if (notebookContainer) {{\n",
       "    x.observe(notebookContainer, {childList: true});\n",
       "}}\n",
       "\n",
       "// Listen for the clearing of the current output cell\n",
       "var outputEl = gd.closest('.output');\n",
       "if (outputEl) {{\n",
       "    x.observe(outputEl, {childList: true});\n",
       "}}\n",
       "\n",
       "                        })                };                });            </script>        </div>"
      ]
     },
     "metadata": {},
     "output_type": "display_data"
    }
   ],
   "source": [
    "fig = px.histogram(shippers_df , x=\"Employee_Name\", y=\"OrderID\", labels={\n",
    "                     \"Employee_Name\": \"Employee\"}, color='Shipping_Company', barmode='group',\n",
    "             height=400, title = 'EMPLOYEES TOTAL LATE ORDERS BY SHIPPING COMPANIES', histfunc = 'count')\n",
    "fig.show()"
   ]
  },
  {
   "cell_type": "code",
   "execution_count": 95,
   "id": "39541167-5c06-4b89-9de8-6d4016f0fbc7",
   "metadata": {},
   "outputs": [
    {
     "name": "stdout",
     "output_type": "stream",
     "text": [
      "                                          sum_sq    df         F    PR(>F)\n",
      "Intercept                               1.000000   1.0  0.022630  0.882097\n",
      "C(Employee_Name)                      139.818580   8.0  0.395506  0.908700\n",
      "C(Shipping_Company)                    62.360226   2.0  0.705595  0.506971\n",
      "C(Employee_Name):C(Shipping_Company)  337.981854  16.0  0.478026  0.910159\n",
      "Residual                              795.416667  18.0       NaN       NaN\n"
     ]
    },
    {
     "name": "stderr",
     "output_type": "stream",
     "text": [
      "C:\\ProgramData\\anaconda3\\Lib\\site-packages\\statsmodels\\base\\model.py:1888: ValueWarning:\n",
      "\n",
      "covariance of constraints does not have full rank. The number of constraints is 16, but rank is 13\n",
      "\n"
     ]
    }
   ],
   "source": [
    "# Fit the model\n",
    "model = ols('Late_By ~ C(Employee_Name) + C(Shipping_Company) + C(Employee_Name):C(Shipping_Company)', data=shippers_df).fit()\n",
    "anova_table = sm.stats.anova_lm(model, typ=3)\n",
    "\n",
    "print(anova_table)"
   ]
  },
  {
   "cell_type": "markdown",
   "id": "da816579-e872-495e-aef3-3488af49b1c1",
   "metadata": {},
   "source": [
    "## Setting our Hypothesis"
   ]
  },
  {
   "cell_type": "code",
   "execution_count": 102,
   "id": "1764f65f-6883-4b1c-9980-4f4bfa780e83",
   "metadata": {},
   "outputs": [
    {
     "name": "stdout",
     "output_type": "stream",
     "text": [
      "reject alternative hypothesis\n",
      "Conclusion: There is no significant difference between Late_By and Employee_Name and Shipping_Company\n",
      "pvalue: 0.9101587838437645\n"
     ]
    }
   ],
   "source": [
    "pvalue_Employee_Name = anova_table['PR(>F)'].loc['C(Employee_Name)']\n",
    "pvalue_Shipping_Company =  anova_table['PR(>F)'].loc['C(Shipping_Company)']\n",
    "pvalue_interaction =  anova_table['PR(>F)'].loc['C(Employee_Name):C(Shipping_Company)']\n",
    "null = 'There is no significant difference between Late_By and Employee_Name and Shipping_Company'\n",
    "alternative = 'There is a significant difference between Late_By and Employee_Name and Shipping_Company'\n",
    "\n",
    "# choose a level of significance\n",
    "alpha = 0.05\n",
    "\n",
    "\n",
    "# decision rule\n",
    "if pvalue_interaction  < alpha:\n",
    "  print(f'reject null hypothesis')\n",
    "  print(f'Conclusion: {alternative}')\n",
    "else:\n",
    "  print(f'reject alternative hypothesis')\n",
    "  print(f'Conclusion: {null}')\n",
    "print(f'pvalue: {pvalue_interaction}')"
   ]
  },
  {
   "cell_type": "markdown",
   "id": "47fc0355-0c77-49ce-b50a-5c0912b3c20e",
   "metadata": {},
   "source": [
    "## Conclusion\n",
    "From the analysis above, it could be concluded that both the employee handling the orders and the shipping companies have no statistically significant influence on delivery delays (late orders) in the Northwind database. The interaction between these factors is also not significant, suggesting that the effect of one factor does not depend on the level of the other factor."
   ]
  },
  {
   "cell_type": "markdown",
   "id": "b73bf993-8046-4407-833b-45d3bc91eb14",
   "metadata": {},
   "source": [
    "### Investigating whether Employees handling orders and Cities in which the order is going has a significant effect on Late Delivery of Orders"
   ]
  },
  {
   "cell_type": "code",
   "execution_count": 104,
   "id": "22f154bf-d026-4420-829a-a5b66741982e",
   "metadata": {},
   "outputs": [
    {
     "data": {
      "text/html": [
       "<div>\n",
       "<style scoped>\n",
       "    .dataframe tbody tr th:only-of-type {\n",
       "        vertical-align: middle;\n",
       "    }\n",
       "\n",
       "    .dataframe tbody tr th {\n",
       "        vertical-align: top;\n",
       "    }\n",
       "\n",
       "    .dataframe thead th {\n",
       "        text-align: right;\n",
       "    }\n",
       "</style>\n",
       "<table border=\"1\" class=\"dataframe\">\n",
       "  <thead>\n",
       "    <tr style=\"text-align: right;\">\n",
       "      <th>Ship_City</th>\n",
       "      <th>Boise</th>\n",
       "      <th>Brcke</th>\n",
       "      <th>Buenos Aires</th>\n",
       "      <th>Campinas</th>\n",
       "      <th>Charleroi</th>\n",
       "      <th>Cork</th>\n",
       "      <th>Cowes</th>\n",
       "      <th>Cunewalde</th>\n",
       "      <th>Elgin</th>\n",
       "      <th>Eugene</th>\n",
       "      <th>...</th>\n",
       "      <th>Marseille</th>\n",
       "      <th>Oulu</th>\n",
       "      <th>Reggio Emilia</th>\n",
       "      <th>Salzburg</th>\n",
       "      <th>San Cristbal</th>\n",
       "      <th>Seattle</th>\n",
       "      <th>Torino</th>\n",
       "      <th>Versailles</th>\n",
       "      <th>Walla Walla</th>\n",
       "      <th>All</th>\n",
       "    </tr>\n",
       "    <tr>\n",
       "      <th>Employee_Name</th>\n",
       "      <th></th>\n",
       "      <th></th>\n",
       "      <th></th>\n",
       "      <th></th>\n",
       "      <th></th>\n",
       "      <th></th>\n",
       "      <th></th>\n",
       "      <th></th>\n",
       "      <th></th>\n",
       "      <th></th>\n",
       "      <th></th>\n",
       "      <th></th>\n",
       "      <th></th>\n",
       "      <th></th>\n",
       "      <th></th>\n",
       "      <th></th>\n",
       "      <th></th>\n",
       "      <th></th>\n",
       "      <th></th>\n",
       "      <th></th>\n",
       "      <th></th>\n",
       "    </tr>\n",
       "  </thead>\n",
       "  <tbody>\n",
       "    <tr>\n",
       "      <th>Buchanan Steven</th>\n",
       "      <td>0</td>\n",
       "      <td>0</td>\n",
       "      <td>0</td>\n",
       "      <td>0</td>\n",
       "      <td>0</td>\n",
       "      <td>0</td>\n",
       "      <td>0</td>\n",
       "      <td>0</td>\n",
       "      <td>0</td>\n",
       "      <td>0</td>\n",
       "      <td>...</td>\n",
       "      <td>0</td>\n",
       "      <td>1</td>\n",
       "      <td>0</td>\n",
       "      <td>0</td>\n",
       "      <td>0</td>\n",
       "      <td>0</td>\n",
       "      <td>0</td>\n",
       "      <td>0</td>\n",
       "      <td>0</td>\n",
       "      <td>1</td>\n",
       "    </tr>\n",
       "    <tr>\n",
       "      <th>Callahan Laura</th>\n",
       "      <td>0</td>\n",
       "      <td>0</td>\n",
       "      <td>0</td>\n",
       "      <td>0</td>\n",
       "      <td>0</td>\n",
       "      <td>1</td>\n",
       "      <td>0</td>\n",
       "      <td>0</td>\n",
       "      <td>1</td>\n",
       "      <td>0</td>\n",
       "      <td>...</td>\n",
       "      <td>0</td>\n",
       "      <td>0</td>\n",
       "      <td>0</td>\n",
       "      <td>0</td>\n",
       "      <td>0</td>\n",
       "      <td>1</td>\n",
       "      <td>0</td>\n",
       "      <td>0</td>\n",
       "      <td>1</td>\n",
       "      <td>4</td>\n",
       "    </tr>\n",
       "    <tr>\n",
       "      <th>Davolio Nancy</th>\n",
       "      <td>0</td>\n",
       "      <td>0</td>\n",
       "      <td>0</td>\n",
       "      <td>1</td>\n",
       "      <td>0</td>\n",
       "      <td>0</td>\n",
       "      <td>0</td>\n",
       "      <td>0</td>\n",
       "      <td>0</td>\n",
       "      <td>0</td>\n",
       "      <td>...</td>\n",
       "      <td>1</td>\n",
       "      <td>0</td>\n",
       "      <td>0</td>\n",
       "      <td>0</td>\n",
       "      <td>0</td>\n",
       "      <td>0</td>\n",
       "      <td>0</td>\n",
       "      <td>0</td>\n",
       "      <td>0</td>\n",
       "      <td>2</td>\n",
       "    </tr>\n",
       "    <tr>\n",
       "      <th>Dodsworth Anne</th>\n",
       "      <td>0</td>\n",
       "      <td>0</td>\n",
       "      <td>1</td>\n",
       "      <td>0</td>\n",
       "      <td>0</td>\n",
       "      <td>1</td>\n",
       "      <td>0</td>\n",
       "      <td>0</td>\n",
       "      <td>0</td>\n",
       "      <td>0</td>\n",
       "      <td>...</td>\n",
       "      <td>0</td>\n",
       "      <td>0</td>\n",
       "      <td>0</td>\n",
       "      <td>0</td>\n",
       "      <td>1</td>\n",
       "      <td>0</td>\n",
       "      <td>0</td>\n",
       "      <td>0</td>\n",
       "      <td>0</td>\n",
       "      <td>4</td>\n",
       "    </tr>\n",
       "    <tr>\n",
       "      <th>Fuller Andrew</th>\n",
       "      <td>0</td>\n",
       "      <td>0</td>\n",
       "      <td>0</td>\n",
       "      <td>0</td>\n",
       "      <td>0</td>\n",
       "      <td>0</td>\n",
       "      <td>0</td>\n",
       "      <td>1</td>\n",
       "      <td>0</td>\n",
       "      <td>0</td>\n",
       "      <td>...</td>\n",
       "      <td>1</td>\n",
       "      <td>0</td>\n",
       "      <td>1</td>\n",
       "      <td>0</td>\n",
       "      <td>0</td>\n",
       "      <td>0</td>\n",
       "      <td>0</td>\n",
       "      <td>0</td>\n",
       "      <td>0</td>\n",
       "      <td>4</td>\n",
       "    </tr>\n",
       "    <tr>\n",
       "      <th>King Robert</th>\n",
       "      <td>0</td>\n",
       "      <td>0</td>\n",
       "      <td>0</td>\n",
       "      <td>1</td>\n",
       "      <td>0</td>\n",
       "      <td>0</td>\n",
       "      <td>0</td>\n",
       "      <td>0</td>\n",
       "      <td>0</td>\n",
       "      <td>0</td>\n",
       "      <td>...</td>\n",
       "      <td>0</td>\n",
       "      <td>0</td>\n",
       "      <td>0</td>\n",
       "      <td>0</td>\n",
       "      <td>0</td>\n",
       "      <td>1</td>\n",
       "      <td>0</td>\n",
       "      <td>0</td>\n",
       "      <td>0</td>\n",
       "      <td>4</td>\n",
       "    </tr>\n",
       "    <tr>\n",
       "      <th>Leverling Janet</th>\n",
       "      <td>0</td>\n",
       "      <td>0</td>\n",
       "      <td>0</td>\n",
       "      <td>0</td>\n",
       "      <td>0</td>\n",
       "      <td>1</td>\n",
       "      <td>0</td>\n",
       "      <td>0</td>\n",
       "      <td>0</td>\n",
       "      <td>0</td>\n",
       "      <td>...</td>\n",
       "      <td>0</td>\n",
       "      <td>0</td>\n",
       "      <td>0</td>\n",
       "      <td>0</td>\n",
       "      <td>1</td>\n",
       "      <td>0</td>\n",
       "      <td>0</td>\n",
       "      <td>0</td>\n",
       "      <td>0</td>\n",
       "      <td>5</td>\n",
       "    </tr>\n",
       "    <tr>\n",
       "      <th>Peacock Margaret</th>\n",
       "      <td>1</td>\n",
       "      <td>0</td>\n",
       "      <td>0</td>\n",
       "      <td>0</td>\n",
       "      <td>1</td>\n",
       "      <td>0</td>\n",
       "      <td>1</td>\n",
       "      <td>1</td>\n",
       "      <td>0</td>\n",
       "      <td>1</td>\n",
       "      <td>...</td>\n",
       "      <td>0</td>\n",
       "      <td>0</td>\n",
       "      <td>0</td>\n",
       "      <td>1</td>\n",
       "      <td>0</td>\n",
       "      <td>0</td>\n",
       "      <td>1</td>\n",
       "      <td>1</td>\n",
       "      <td>0</td>\n",
       "      <td>10</td>\n",
       "    </tr>\n",
       "    <tr>\n",
       "      <th>Suyama Michael</th>\n",
       "      <td>0</td>\n",
       "      <td>1</td>\n",
       "      <td>0</td>\n",
       "      <td>1</td>\n",
       "      <td>0</td>\n",
       "      <td>0</td>\n",
       "      <td>0</td>\n",
       "      <td>0</td>\n",
       "      <td>0</td>\n",
       "      <td>0</td>\n",
       "      <td>...</td>\n",
       "      <td>0</td>\n",
       "      <td>0</td>\n",
       "      <td>0</td>\n",
       "      <td>0</td>\n",
       "      <td>0</td>\n",
       "      <td>0</td>\n",
       "      <td>0</td>\n",
       "      <td>0</td>\n",
       "      <td>0</td>\n",
       "      <td>3</td>\n",
       "    </tr>\n",
       "    <tr>\n",
       "      <th>All</th>\n",
       "      <td>1</td>\n",
       "      <td>1</td>\n",
       "      <td>1</td>\n",
       "      <td>3</td>\n",
       "      <td>1</td>\n",
       "      <td>3</td>\n",
       "      <td>1</td>\n",
       "      <td>2</td>\n",
       "      <td>1</td>\n",
       "      <td>1</td>\n",
       "      <td>...</td>\n",
       "      <td>2</td>\n",
       "      <td>1</td>\n",
       "      <td>1</td>\n",
       "      <td>1</td>\n",
       "      <td>2</td>\n",
       "      <td>2</td>\n",
       "      <td>1</td>\n",
       "      <td>1</td>\n",
       "      <td>1</td>\n",
       "      <td>37</td>\n",
       "    </tr>\n",
       "  </tbody>\n",
       "</table>\n",
       "<p>10 rows × 27 columns</p>\n",
       "</div>"
      ],
      "text/plain": [
       "Ship_City         Boise  Brcke  Buenos Aires  Campinas  Charleroi  Cork  \\\n",
       "Employee_Name                                                             \n",
       "Buchanan Steven       0      0             0         0          0     0   \n",
       "Callahan Laura        0      0             0         0          0     1   \n",
       "Davolio Nancy         0      0             0         1          0     0   \n",
       "Dodsworth Anne        0      0             1         0          0     1   \n",
       "Fuller Andrew         0      0             0         0          0     0   \n",
       "King Robert           0      0             0         1          0     0   \n",
       "Leverling Janet       0      0             0         0          0     1   \n",
       "Peacock Margaret      1      0             0         0          1     0   \n",
       "Suyama Michael        0      1             0         1          0     0   \n",
       "All                   1      1             1         3          1     3   \n",
       "\n",
       "Ship_City         Cowes  Cunewalde  Elgin  Eugene  ...  Marseille  Oulu  \\\n",
       "Employee_Name                                      ...                    \n",
       "Buchanan Steven       0          0      0       0  ...          0     1   \n",
       "Callahan Laura        0          0      1       0  ...          0     0   \n",
       "Davolio Nancy         0          0      0       0  ...          1     0   \n",
       "Dodsworth Anne        0          0      0       0  ...          0     0   \n",
       "Fuller Andrew         0          1      0       0  ...          1     0   \n",
       "King Robert           0          0      0       0  ...          0     0   \n",
       "Leverling Janet       0          0      0       0  ...          0     0   \n",
       "Peacock Margaret      1          1      0       1  ...          0     0   \n",
       "Suyama Michael        0          0      0       0  ...          0     0   \n",
       "All                   1          2      1       1  ...          2     1   \n",
       "\n",
       "Ship_City         Reggio Emilia  Salzburg  San Cristbal  Seattle  Torino  \\\n",
       "Employee_Name                                                              \n",
       "Buchanan Steven               0         0             0        0       0   \n",
       "Callahan Laura                0         0             0        1       0   \n",
       "Davolio Nancy                 0         0             0        0       0   \n",
       "Dodsworth Anne                0         0             1        0       0   \n",
       "Fuller Andrew                 1         0             0        0       0   \n",
       "King Robert                   0         0             0        1       0   \n",
       "Leverling Janet               0         0             1        0       0   \n",
       "Peacock Margaret              0         1             0        0       1   \n",
       "Suyama Michael                0         0             0        0       0   \n",
       "All                           1         1             2        2       1   \n",
       "\n",
       "Ship_City         Versailles  Walla Walla  All  \n",
       "Employee_Name                                   \n",
       "Buchanan Steven            0            0    1  \n",
       "Callahan Laura             0            1    4  \n",
       "Davolio Nancy              0            0    2  \n",
       "Dodsworth Anne             0            0    4  \n",
       "Fuller Andrew              0            0    4  \n",
       "King Robert                0            0    4  \n",
       "Leverling Janet            0            0    5  \n",
       "Peacock Margaret           1            0   10  \n",
       "Suyama Michael             0            0    3  \n",
       "All                        1            1   37  \n",
       "\n",
       "[10 rows x 27 columns]"
      ]
     },
     "execution_count": 104,
     "metadata": {},
     "output_type": "execute_result"
    }
   ],
   "source": [
    "pd.crosstab(shippers_df[\"Employee_Name\"], shippers_df[\"Ship_City\"], margins=True)"
   ]
  },
  {
   "cell_type": "code",
   "execution_count": 110,
   "id": "6ff09510-1017-4c97-984a-70f98202d865",
   "metadata": {},
   "outputs": [
    {
     "data": {
      "application/vnd.plotly.v1+json": {
       "config": {
        "plotlyServerURL": "https://plot.ly"
       },
       "data": [
        {
         "alignmentgroup": "True",
         "bingroup": "x",
         "histfunc": "count",
         "hovertemplate": "Employee=%{x}<br>count=%{y}<extra></extra>",
         "legendgroup": "Dodsworth Anne",
         "marker": {
          "color": "#636efa",
          "pattern": {
           "shape": ""
          }
         },
         "name": "Dodsworth Anne",
         "offsetgroup": "Dodsworth Anne",
         "orientation": "v",
         "showlegend": true,
         "type": "histogram",
         "x": [
          "Dodsworth Anne",
          "Dodsworth Anne",
          "Dodsworth Anne",
          "Dodsworth Anne"
         ],
         "xaxis": "x",
         "y": [
          "Madrid",
          "Buenos Aires",
          "San Cristbal",
          "Cork"
         ],
         "yaxis": "y"
        },
        {
         "alignmentgroup": "True",
         "bingroup": "x",
         "histfunc": "count",
         "hovertemplate": "Employee=%{x}<br>count=%{y}<extra></extra>",
         "legendgroup": "Callahan Laura",
         "marker": {
          "color": "#EF553B",
          "pattern": {
           "shape": ""
          }
         },
         "name": "Callahan Laura",
         "offsetgroup": "Callahan Laura",
         "orientation": "v",
         "showlegend": true,
         "type": "histogram",
         "x": [
          "Callahan Laura",
          "Callahan Laura",
          "Callahan Laura",
          "Callahan Laura"
         ],
         "xaxis": "x",
         "y": [
          "Elgin",
          "Seattle",
          "Walla Walla",
          "Cork"
         ],
         "yaxis": "y"
        },
        {
         "alignmentgroup": "True",
         "bingroup": "x",
         "histfunc": "count",
         "hovertemplate": "Employee=%{x}<br>count=%{y}<extra></extra>",
         "legendgroup": "Peacock Margaret",
         "marker": {
          "color": "#00cc96",
          "pattern": {
           "shape": ""
          }
         },
         "name": "Peacock Margaret",
         "offsetgroup": "Peacock Margaret",
         "orientation": "v",
         "showlegend": true,
         "type": "histogram",
         "x": [
          "Peacock Margaret",
          "Peacock Margaret",
          "Peacock Margaret",
          "Peacock Margaret",
          "Peacock Margaret",
          "Peacock Margaret",
          "Peacock Margaret",
          "Peacock Margaret",
          "Peacock Margaret",
          "Peacock Margaret"
         ],
         "xaxis": "x",
         "y": [
          "Versailles",
          "Torino",
          "London",
          "Eugene",
          "Cowes",
          "Salzburg",
          "Charleroi",
          "Boise",
          "London",
          "Cunewalde"
         ],
         "yaxis": "y"
        },
        {
         "alignmentgroup": "True",
         "bingroup": "x",
         "histfunc": "count",
         "hovertemplate": "Employee=%{x}<br>count=%{y}<extra></extra>",
         "legendgroup": "Leverling Janet",
         "marker": {
          "color": "#ab63fa",
          "pattern": {
           "shape": ""
          }
         },
         "name": "Leverling Janet",
         "offsetgroup": "Leverling Janet",
         "orientation": "v",
         "showlegend": true,
         "type": "histogram",
         "x": [
          "Leverling Janet",
          "Leverling Janet",
          "Leverling Janet",
          "Leverling Janet",
          "Leverling Janet"
         ],
         "xaxis": "x",
         "y": [
          "San Cristbal",
          "Cork",
          "Lule",
          "Leipzig",
          "Lisboa"
         ],
         "yaxis": "y"
        },
        {
         "alignmentgroup": "True",
         "bingroup": "x",
         "histfunc": "count",
         "hovertemplate": "Employee=%{x}<br>count=%{y}<extra></extra>",
         "legendgroup": "Fuller Andrew",
         "marker": {
          "color": "#FFA15A",
          "pattern": {
           "shape": ""
          }
         },
         "name": "Fuller Andrew",
         "offsetgroup": "Fuller Andrew",
         "orientation": "v",
         "showlegend": true,
         "type": "histogram",
         "x": [
          "Fuller Andrew",
          "Fuller Andrew",
          "Fuller Andrew",
          "Fuller Andrew"
         ],
         "xaxis": "x",
         "y": [
          "Reggio Emilia",
          "Cunewalde",
          "Lule",
          "Marseille"
         ],
         "yaxis": "y"
        },
        {
         "alignmentgroup": "True",
         "bingroup": "x",
         "histfunc": "count",
         "hovertemplate": "Employee=%{x}<br>count=%{y}<extra></extra>",
         "legendgroup": "King Robert",
         "marker": {
          "color": "#19d3f3",
          "pattern": {
           "shape": ""
          }
         },
         "name": "King Robert",
         "offsetgroup": "King Robert",
         "orientation": "v",
         "showlegend": true,
         "type": "histogram",
         "x": [
          "King Robert",
          "King Robert",
          "King Robert",
          "King Robert"
         ],
         "xaxis": "x",
         "y": [
          "Campinas",
          "Frankfurt a.M.",
          "London",
          "Seattle"
         ],
         "yaxis": "y"
        },
        {
         "alignmentgroup": "True",
         "bingroup": "x",
         "histfunc": "count",
         "hovertemplate": "Employee=%{x}<br>count=%{y}<extra></extra>",
         "legendgroup": "Suyama Michael",
         "marker": {
          "color": "#FF6692",
          "pattern": {
           "shape": ""
          }
         },
         "name": "Suyama Michael",
         "offsetgroup": "Suyama Michael",
         "orientation": "v",
         "showlegend": true,
         "type": "histogram",
         "x": [
          "Suyama Michael",
          "Suyama Michael",
          "Suyama Michael"
         ],
         "xaxis": "x",
         "y": [
          "Lander",
          "Campinas",
          "Brcke"
         ],
         "yaxis": "y"
        },
        {
         "alignmentgroup": "True",
         "bingroup": "x",
         "histfunc": "count",
         "hovertemplate": "Employee=%{x}<br>count=%{y}<extra></extra>",
         "legendgroup": "Davolio Nancy",
         "marker": {
          "color": "#B6E880",
          "pattern": {
           "shape": ""
          }
         },
         "name": "Davolio Nancy",
         "offsetgroup": "Davolio Nancy",
         "orientation": "v",
         "showlegend": true,
         "type": "histogram",
         "x": [
          "Davolio Nancy",
          "Davolio Nancy"
         ],
         "xaxis": "x",
         "y": [
          "Marseille",
          "Campinas"
         ],
         "yaxis": "y"
        },
        {
         "alignmentgroup": "True",
         "bingroup": "x",
         "histfunc": "count",
         "hovertemplate": "Employee=%{x}<br>count=%{y}<extra></extra>",
         "legendgroup": "Buchanan Steven",
         "marker": {
          "color": "#FF97FF",
          "pattern": {
           "shape": ""
          }
         },
         "name": "Buchanan Steven",
         "offsetgroup": "Buchanan Steven",
         "orientation": "v",
         "showlegend": true,
         "type": "histogram",
         "x": [
          "Buchanan Steven"
         ],
         "xaxis": "x",
         "y": [
          "Oulu"
         ],
         "yaxis": "y"
        }
       ],
       "layout": {
        "autosize": true,
        "barmode": "group",
        "legend": {
         "title": {
          "text": "Employee"
         },
         "tracegroupgap": 0
        },
        "template": {
         "data": {
          "bar": [
           {
            "error_x": {
             "color": "#2a3f5f"
            },
            "error_y": {
             "color": "#2a3f5f"
            },
            "marker": {
             "line": {
              "color": "#E5ECF6",
              "width": 0.5
             },
             "pattern": {
              "fillmode": "overlay",
              "size": 10,
              "solidity": 0.2
             }
            },
            "type": "bar"
           }
          ],
          "barpolar": [
           {
            "marker": {
             "line": {
              "color": "#E5ECF6",
              "width": 0.5
             },
             "pattern": {
              "fillmode": "overlay",
              "size": 10,
              "solidity": 0.2
             }
            },
            "type": "barpolar"
           }
          ],
          "carpet": [
           {
            "aaxis": {
             "endlinecolor": "#2a3f5f",
             "gridcolor": "white",
             "linecolor": "white",
             "minorgridcolor": "white",
             "startlinecolor": "#2a3f5f"
            },
            "baxis": {
             "endlinecolor": "#2a3f5f",
             "gridcolor": "white",
             "linecolor": "white",
             "minorgridcolor": "white",
             "startlinecolor": "#2a3f5f"
            },
            "type": "carpet"
           }
          ],
          "choropleth": [
           {
            "colorbar": {
             "outlinewidth": 0,
             "ticks": ""
            },
            "type": "choropleth"
           }
          ],
          "contour": [
           {
            "colorbar": {
             "outlinewidth": 0,
             "ticks": ""
            },
            "colorscale": [
             [
              0,
              "#0d0887"
             ],
             [
              0.1111111111111111,
              "#46039f"
             ],
             [
              0.2222222222222222,
              "#7201a8"
             ],
             [
              0.3333333333333333,
              "#9c179e"
             ],
             [
              0.4444444444444444,
              "#bd3786"
             ],
             [
              0.5555555555555556,
              "#d8576b"
             ],
             [
              0.6666666666666666,
              "#ed7953"
             ],
             [
              0.7777777777777778,
              "#fb9f3a"
             ],
             [
              0.8888888888888888,
              "#fdca26"
             ],
             [
              1,
              "#f0f921"
             ]
            ],
            "type": "contour"
           }
          ],
          "contourcarpet": [
           {
            "colorbar": {
             "outlinewidth": 0,
             "ticks": ""
            },
            "type": "contourcarpet"
           }
          ],
          "heatmap": [
           {
            "colorbar": {
             "outlinewidth": 0,
             "ticks": ""
            },
            "colorscale": [
             [
              0,
              "#0d0887"
             ],
             [
              0.1111111111111111,
              "#46039f"
             ],
             [
              0.2222222222222222,
              "#7201a8"
             ],
             [
              0.3333333333333333,
              "#9c179e"
             ],
             [
              0.4444444444444444,
              "#bd3786"
             ],
             [
              0.5555555555555556,
              "#d8576b"
             ],
             [
              0.6666666666666666,
              "#ed7953"
             ],
             [
              0.7777777777777778,
              "#fb9f3a"
             ],
             [
              0.8888888888888888,
              "#fdca26"
             ],
             [
              1,
              "#f0f921"
             ]
            ],
            "type": "heatmap"
           }
          ],
          "heatmapgl": [
           {
            "colorbar": {
             "outlinewidth": 0,
             "ticks": ""
            },
            "colorscale": [
             [
              0,
              "#0d0887"
             ],
             [
              0.1111111111111111,
              "#46039f"
             ],
             [
              0.2222222222222222,
              "#7201a8"
             ],
             [
              0.3333333333333333,
              "#9c179e"
             ],
             [
              0.4444444444444444,
              "#bd3786"
             ],
             [
              0.5555555555555556,
              "#d8576b"
             ],
             [
              0.6666666666666666,
              "#ed7953"
             ],
             [
              0.7777777777777778,
              "#fb9f3a"
             ],
             [
              0.8888888888888888,
              "#fdca26"
             ],
             [
              1,
              "#f0f921"
             ]
            ],
            "type": "heatmapgl"
           }
          ],
          "histogram": [
           {
            "marker": {
             "pattern": {
              "fillmode": "overlay",
              "size": 10,
              "solidity": 0.2
             }
            },
            "type": "histogram"
           }
          ],
          "histogram2d": [
           {
            "colorbar": {
             "outlinewidth": 0,
             "ticks": ""
            },
            "colorscale": [
             [
              0,
              "#0d0887"
             ],
             [
              0.1111111111111111,
              "#46039f"
             ],
             [
              0.2222222222222222,
              "#7201a8"
             ],
             [
              0.3333333333333333,
              "#9c179e"
             ],
             [
              0.4444444444444444,
              "#bd3786"
             ],
             [
              0.5555555555555556,
              "#d8576b"
             ],
             [
              0.6666666666666666,
              "#ed7953"
             ],
             [
              0.7777777777777778,
              "#fb9f3a"
             ],
             [
              0.8888888888888888,
              "#fdca26"
             ],
             [
              1,
              "#f0f921"
             ]
            ],
            "type": "histogram2d"
           }
          ],
          "histogram2dcontour": [
           {
            "colorbar": {
             "outlinewidth": 0,
             "ticks": ""
            },
            "colorscale": [
             [
              0,
              "#0d0887"
             ],
             [
              0.1111111111111111,
              "#46039f"
             ],
             [
              0.2222222222222222,
              "#7201a8"
             ],
             [
              0.3333333333333333,
              "#9c179e"
             ],
             [
              0.4444444444444444,
              "#bd3786"
             ],
             [
              0.5555555555555556,
              "#d8576b"
             ],
             [
              0.6666666666666666,
              "#ed7953"
             ],
             [
              0.7777777777777778,
              "#fb9f3a"
             ],
             [
              0.8888888888888888,
              "#fdca26"
             ],
             [
              1,
              "#f0f921"
             ]
            ],
            "type": "histogram2dcontour"
           }
          ],
          "mesh3d": [
           {
            "colorbar": {
             "outlinewidth": 0,
             "ticks": ""
            },
            "type": "mesh3d"
           }
          ],
          "parcoords": [
           {
            "line": {
             "colorbar": {
              "outlinewidth": 0,
              "ticks": ""
             }
            },
            "type": "parcoords"
           }
          ],
          "pie": [
           {
            "automargin": true,
            "type": "pie"
           }
          ],
          "scatter": [
           {
            "fillpattern": {
             "fillmode": "overlay",
             "size": 10,
             "solidity": 0.2
            },
            "type": "scatter"
           }
          ],
          "scatter3d": [
           {
            "line": {
             "colorbar": {
              "outlinewidth": 0,
              "ticks": ""
             }
            },
            "marker": {
             "colorbar": {
              "outlinewidth": 0,
              "ticks": ""
             }
            },
            "type": "scatter3d"
           }
          ],
          "scattercarpet": [
           {
            "marker": {
             "colorbar": {
              "outlinewidth": 0,
              "ticks": ""
             }
            },
            "type": "scattercarpet"
           }
          ],
          "scattergeo": [
           {
            "marker": {
             "colorbar": {
              "outlinewidth": 0,
              "ticks": ""
             }
            },
            "type": "scattergeo"
           }
          ],
          "scattergl": [
           {
            "marker": {
             "colorbar": {
              "outlinewidth": 0,
              "ticks": ""
             }
            },
            "type": "scattergl"
           }
          ],
          "scattermapbox": [
           {
            "marker": {
             "colorbar": {
              "outlinewidth": 0,
              "ticks": ""
             }
            },
            "type": "scattermapbox"
           }
          ],
          "scatterpolar": [
           {
            "marker": {
             "colorbar": {
              "outlinewidth": 0,
              "ticks": ""
             }
            },
            "type": "scatterpolar"
           }
          ],
          "scatterpolargl": [
           {
            "marker": {
             "colorbar": {
              "outlinewidth": 0,
              "ticks": ""
             }
            },
            "type": "scatterpolargl"
           }
          ],
          "scatterternary": [
           {
            "marker": {
             "colorbar": {
              "outlinewidth": 0,
              "ticks": ""
             }
            },
            "type": "scatterternary"
           }
          ],
          "surface": [
           {
            "colorbar": {
             "outlinewidth": 0,
             "ticks": ""
            },
            "colorscale": [
             [
              0,
              "#0d0887"
             ],
             [
              0.1111111111111111,
              "#46039f"
             ],
             [
              0.2222222222222222,
              "#7201a8"
             ],
             [
              0.3333333333333333,
              "#9c179e"
             ],
             [
              0.4444444444444444,
              "#bd3786"
             ],
             [
              0.5555555555555556,
              "#d8576b"
             ],
             [
              0.6666666666666666,
              "#ed7953"
             ],
             [
              0.7777777777777778,
              "#fb9f3a"
             ],
             [
              0.8888888888888888,
              "#fdca26"
             ],
             [
              1,
              "#f0f921"
             ]
            ],
            "type": "surface"
           }
          ],
          "table": [
           {
            "cells": {
             "fill": {
              "color": "#EBF0F8"
             },
             "line": {
              "color": "white"
             }
            },
            "header": {
             "fill": {
              "color": "#C8D4E3"
             },
             "line": {
              "color": "white"
             }
            },
            "type": "table"
           }
          ]
         },
         "layout": {
          "annotationdefaults": {
           "arrowcolor": "#2a3f5f",
           "arrowhead": 0,
           "arrowwidth": 1
          },
          "autotypenumbers": "strict",
          "coloraxis": {
           "colorbar": {
            "outlinewidth": 0,
            "ticks": ""
           }
          },
          "colorscale": {
           "diverging": [
            [
             0,
             "#8e0152"
            ],
            [
             0.1,
             "#c51b7d"
            ],
            [
             0.2,
             "#de77ae"
            ],
            [
             0.3,
             "#f1b6da"
            ],
            [
             0.4,
             "#fde0ef"
            ],
            [
             0.5,
             "#f7f7f7"
            ],
            [
             0.6,
             "#e6f5d0"
            ],
            [
             0.7,
             "#b8e186"
            ],
            [
             0.8,
             "#7fbc41"
            ],
            [
             0.9,
             "#4d9221"
            ],
            [
             1,
             "#276419"
            ]
           ],
           "sequential": [
            [
             0,
             "#0d0887"
            ],
            [
             0.1111111111111111,
             "#46039f"
            ],
            [
             0.2222222222222222,
             "#7201a8"
            ],
            [
             0.3333333333333333,
             "#9c179e"
            ],
            [
             0.4444444444444444,
             "#bd3786"
            ],
            [
             0.5555555555555556,
             "#d8576b"
            ],
            [
             0.6666666666666666,
             "#ed7953"
            ],
            [
             0.7777777777777778,
             "#fb9f3a"
            ],
            [
             0.8888888888888888,
             "#fdca26"
            ],
            [
             1,
             "#f0f921"
            ]
           ],
           "sequentialminus": [
            [
             0,
             "#0d0887"
            ],
            [
             0.1111111111111111,
             "#46039f"
            ],
            [
             0.2222222222222222,
             "#7201a8"
            ],
            [
             0.3333333333333333,
             "#9c179e"
            ],
            [
             0.4444444444444444,
             "#bd3786"
            ],
            [
             0.5555555555555556,
             "#d8576b"
            ],
            [
             0.6666666666666666,
             "#ed7953"
            ],
            [
             0.7777777777777778,
             "#fb9f3a"
            ],
            [
             0.8888888888888888,
             "#fdca26"
            ],
            [
             1,
             "#f0f921"
            ]
           ]
          },
          "colorway": [
           "#636efa",
           "#EF553B",
           "#00cc96",
           "#ab63fa",
           "#FFA15A",
           "#19d3f3",
           "#FF6692",
           "#B6E880",
           "#FF97FF",
           "#FECB52"
          ],
          "font": {
           "color": "#2a3f5f"
          },
          "geo": {
           "bgcolor": "white",
           "lakecolor": "white",
           "landcolor": "#E5ECF6",
           "showlakes": true,
           "showland": true,
           "subunitcolor": "white"
          },
          "hoverlabel": {
           "align": "left"
          },
          "hovermode": "closest",
          "mapbox": {
           "style": "light"
          },
          "paper_bgcolor": "white",
          "plot_bgcolor": "#E5ECF6",
          "polar": {
           "angularaxis": {
            "gridcolor": "white",
            "linecolor": "white",
            "ticks": ""
           },
           "bgcolor": "#E5ECF6",
           "radialaxis": {
            "gridcolor": "white",
            "linecolor": "white",
            "ticks": ""
           }
          },
          "scene": {
           "xaxis": {
            "backgroundcolor": "#E5ECF6",
            "gridcolor": "white",
            "gridwidth": 2,
            "linecolor": "white",
            "showbackground": true,
            "ticks": "",
            "zerolinecolor": "white"
           },
           "yaxis": {
            "backgroundcolor": "#E5ECF6",
            "gridcolor": "white",
            "gridwidth": 2,
            "linecolor": "white",
            "showbackground": true,
            "ticks": "",
            "zerolinecolor": "white"
           },
           "zaxis": {
            "backgroundcolor": "#E5ECF6",
            "gridcolor": "white",
            "gridwidth": 2,
            "linecolor": "white",
            "showbackground": true,
            "ticks": "",
            "zerolinecolor": "white"
           }
          },
          "shapedefaults": {
           "line": {
            "color": "#2a3f5f"
           }
          },
          "ternary": {
           "aaxis": {
            "gridcolor": "white",
            "linecolor": "white",
            "ticks": ""
           },
           "baxis": {
            "gridcolor": "white",
            "linecolor": "white",
            "ticks": ""
           },
           "bgcolor": "#E5ECF6",
           "caxis": {
            "gridcolor": "white",
            "linecolor": "white",
            "ticks": ""
           }
          },
          "title": {
           "x": 0.05
          },
          "xaxis": {
           "automargin": true,
           "gridcolor": "white",
           "linecolor": "white",
           "ticks": "",
           "title": {
            "standoff": 15
           },
           "zerolinecolor": "white",
           "zerolinewidth": 2
          },
          "yaxis": {
           "automargin": true,
           "gridcolor": "white",
           "linecolor": "white",
           "ticks": "",
           "title": {
            "standoff": 15
           },
           "zerolinecolor": "white",
           "zerolinewidth": 2
          }
         }
        },
        "title": {
         "text": "EMPLOYEES TOTAL ORDERS SENT TO DIFFERENT CITIES"
        },
        "xaxis": {
         "anchor": "y",
         "autorange": true,
         "categoryarray": [
          "Dodsworth Anne",
          "Callahan Laura",
          "Peacock Margaret",
          "Leverling Janet",
          "Fuller Andrew",
          "King Robert",
          "Suyama Michael",
          "Davolio Nancy",
          "Buchanan Steven"
         ],
         "categoryorder": "array",
         "domain": [
          0,
          1
         ],
         "range": [
          -0.5,
          8.5
         ],
         "title": {
          "text": "Employee"
         },
         "type": "category"
        },
        "yaxis": {
         "anchor": "x",
         "autorange": true,
         "domain": [
          0,
          1
         ],
         "range": [
          0,
          10.526315789473685
         ],
         "title": {
          "text": "count"
         },
         "type": "linear"
        }
       }
      },
      "image/png": "[encoded data removed]",
      "text/html": [
       "<div>                            <div id=\"1e219bc5-b43b-43de-b3a0-ceba809d392d\" class=\"plotly-graph-div\" style=\"height:400px; width:100%;\"></div>            <script type=\"text/javascript\">                require([\"plotly\"], function(Plotly) {                    window.PLOTLYENV=window.PLOTLYENV || {};                                    if (document.getElementById(\"1e219bc5-b43b-43de-b3a0-ceba809d392d\")) {                    Plotly.newPlot(                        \"1e219bc5-b43b-43de-b3a0-ceba809d392d\",                        [{\"alignmentgroup\":\"True\",\"bingroup\":\"x\",\"histfunc\":\"count\",\"hovertemplate\":\"Employee=%{x}<br>count=%{y}<extra></extra>\",\"legendgroup\":\"Dodsworth Anne\",\"marker\":{\"color\":\"#636efa\",\"pattern\":{\"shape\":\"\"}},\"name\":\"Dodsworth Anne\",\"offsetgroup\":\"Dodsworth Anne\",\"orientation\":\"v\",\"showlegend\":true,\"x\":[\"Dodsworth Anne\",\"Dodsworth Anne\",\"Dodsworth Anne\",\"Dodsworth Anne\"],\"xaxis\":\"x\",\"y\":[\"Madrid\",\"Buenos Aires\",\"San Cristbal\",\"Cork\"],\"yaxis\":\"y\",\"type\":\"histogram\"},{\"alignmentgroup\":\"True\",\"bingroup\":\"x\",\"histfunc\":\"count\",\"hovertemplate\":\"Employee=%{x}<br>count=%{y}<extra></extra>\",\"legendgroup\":\"Callahan Laura\",\"marker\":{\"color\":\"#EF553B\",\"pattern\":{\"shape\":\"\"}},\"name\":\"Callahan Laura\",\"offsetgroup\":\"Callahan Laura\",\"orientation\":\"v\",\"showlegend\":true,\"x\":[\"Callahan Laura\",\"Callahan Laura\",\"Callahan Laura\",\"Callahan Laura\"],\"xaxis\":\"x\",\"y\":[\"Elgin\",\"Seattle\",\"Walla Walla\",\"Cork\"],\"yaxis\":\"y\",\"type\":\"histogram\"},{\"alignmentgroup\":\"True\",\"bingroup\":\"x\",\"histfunc\":\"count\",\"hovertemplate\":\"Employee=%{x}<br>count=%{y}<extra></extra>\",\"legendgroup\":\"Peacock Margaret\",\"marker\":{\"color\":\"#00cc96\",\"pattern\":{\"shape\":\"\"}},\"name\":\"Peacock Margaret\",\"offsetgroup\":\"Peacock Margaret\",\"orientation\":\"v\",\"showlegend\":true,\"x\":[\"Peacock Margaret\",\"Peacock Margaret\",\"Peacock Margaret\",\"Peacock Margaret\",\"Peacock Margaret\",\"Peacock Margaret\",\"Peacock Margaret\",\"Peacock Margaret\",\"Peacock Margaret\",\"Peacock Margaret\"],\"xaxis\":\"x\",\"y\":[\"Versailles\",\"Torino\",\"London\",\"Eugene\",\"Cowes\",\"Salzburg\",\"Charleroi\",\"Boise\",\"London\",\"Cunewalde\"],\"yaxis\":\"y\",\"type\":\"histogram\"},{\"alignmentgroup\":\"True\",\"bingroup\":\"x\",\"histfunc\":\"count\",\"hovertemplate\":\"Employee=%{x}<br>count=%{y}<extra></extra>\",\"legendgroup\":\"Leverling Janet\",\"marker\":{\"color\":\"#ab63fa\",\"pattern\":{\"shape\":\"\"}},\"name\":\"Leverling Janet\",\"offsetgroup\":\"Leverling Janet\",\"orientation\":\"v\",\"showlegend\":true,\"x\":[\"Leverling Janet\",\"Leverling Janet\",\"Leverling Janet\",\"Leverling Janet\",\"Leverling Janet\"],\"xaxis\":\"x\",\"y\":[\"San Cristbal\",\"Cork\",\"Lule\",\"Leipzig\",\"Lisboa\"],\"yaxis\":\"y\",\"type\":\"histogram\"},{\"alignmentgroup\":\"True\",\"bingroup\":\"x\",\"histfunc\":\"count\",\"hovertemplate\":\"Employee=%{x}<br>count=%{y}<extra></extra>\",\"legendgroup\":\"Fuller Andrew\",\"marker\":{\"color\":\"#FFA15A\",\"pattern\":{\"shape\":\"\"}},\"name\":\"Fuller Andrew\",\"offsetgroup\":\"Fuller Andrew\",\"orientation\":\"v\",\"showlegend\":true,\"x\":[\"Fuller Andrew\",\"Fuller Andrew\",\"Fuller Andrew\",\"Fuller Andrew\"],\"xaxis\":\"x\",\"y\":[\"Reggio Emilia\",\"Cunewalde\",\"Lule\",\"Marseille\"],\"yaxis\":\"y\",\"type\":\"histogram\"},{\"alignmentgroup\":\"True\",\"bingroup\":\"x\",\"histfunc\":\"count\",\"hovertemplate\":\"Employee=%{x}<br>count=%{y}<extra></extra>\",\"legendgroup\":\"King Robert\",\"marker\":{\"color\":\"#19d3f3\",\"pattern\":{\"shape\":\"\"}},\"name\":\"King Robert\",\"offsetgroup\":\"King Robert\",\"orientation\":\"v\",\"showlegend\":true,\"x\":[\"King Robert\",\"King Robert\",\"King Robert\",\"King Robert\"],\"xaxis\":\"x\",\"y\":[\"Campinas\",\"Frankfurt a.M.\",\"London\",\"Seattle\"],\"yaxis\":\"y\",\"type\":\"histogram\"},{\"alignmentgroup\":\"True\",\"bingroup\":\"x\",\"histfunc\":\"count\",\"hovertemplate\":\"Employee=%{x}<br>count=%{y}<extra></extra>\",\"legendgroup\":\"Suyama Michael\",\"marker\":{\"color\":\"#FF6692\",\"pattern\":{\"shape\":\"\"}},\"name\":\"Suyama Michael\",\"offsetgroup\":\"Suyama Michael\",\"orientation\":\"v\",\"showlegend\":true,\"x\":[\"Suyama Michael\",\"Suyama Michael\",\"Suyama Michael\"],\"xaxis\":\"x\",\"y\":[\"Lander\",\"Campinas\",\"Brcke\"],\"yaxis\":\"y\",\"type\":\"histogram\"},{\"alignmentgroup\":\"True\",\"bingroup\":\"x\",\"histfunc\":\"count\",\"hovertemplate\":\"Employee=%{x}<br>count=%{y}<extra></extra>\",\"legendgroup\":\"Davolio Nancy\",\"marker\":{\"color\":\"#B6E880\",\"pattern\":{\"shape\":\"\"}},\"name\":\"Davolio Nancy\",\"offsetgroup\":\"Davolio Nancy\",\"orientation\":\"v\",\"showlegend\":true,\"x\":[\"Davolio Nancy\",\"Davolio Nancy\"],\"xaxis\":\"x\",\"y\":[\"Marseille\",\"Campinas\"],\"yaxis\":\"y\",\"type\":\"histogram\"},{\"alignmentgroup\":\"True\",\"bingroup\":\"x\",\"histfunc\":\"count\",\"hovertemplate\":\"Employee=%{x}<br>count=%{y}<extra></extra>\",\"legendgroup\":\"Buchanan Steven\",\"marker\":{\"color\":\"#FF97FF\",\"pattern\":{\"shape\":\"\"}},\"name\":\"Buchanan Steven\",\"offsetgroup\":\"Buchanan Steven\",\"orientation\":\"v\",\"showlegend\":true,\"x\":[\"Buchanan Steven\"],\"xaxis\":\"x\",\"y\":[\"Oulu\"],\"yaxis\":\"y\",\"type\":\"histogram\"}],                        {\"template\":{\"data\":{\"histogram2dcontour\":[{\"type\":\"histogram2dcontour\",\"colorbar\":{\"outlinewidth\":0,\"ticks\":\"\"},\"colorscale\":[[0.0,\"#0d0887\"],[0.1111111111111111,\"#46039f\"],[0.2222222222222222,\"#7201a8\"],[0.3333333333333333,\"#9c179e\"],[0.4444444444444444,\"#bd3786\"],[0.5555555555555556,\"#d8576b\"],[0.6666666666666666,\"#ed7953\"],[0.7777777777777778,\"#fb9f3a\"],[0.8888888888888888,\"#fdca26\"],[1.0,\"#f0f921\"]]}],\"choropleth\":[{\"type\":\"choropleth\",\"colorbar\":{\"outlinewidth\":0,\"ticks\":\"\"}}],\"histogram2d\":[{\"type\":\"histogram2d\",\"colorbar\":{\"outlinewidth\":0,\"ticks\":\"\"},\"colorscale\":[[0.0,\"#0d0887\"],[0.1111111111111111,\"#46039f\"],[0.2222222222222222,\"#7201a8\"],[0.3333333333333333,\"#9c179e\"],[0.4444444444444444,\"#bd3786\"],[0.5555555555555556,\"#d8576b\"],[0.6666666666666666,\"#ed7953\"],[0.7777777777777778,\"#fb9f3a\"],[0.8888888888888888,\"#fdca26\"],[1.0,\"#f0f921\"]]}],\"heatmap\":[{\"type\":\"heatmap\",\"colorbar\":{\"outlinewidth\":0,\"ticks\":\"\"},\"colorscale\":[[0.0,\"#0d0887\"],[0.1111111111111111,\"#46039f\"],[0.2222222222222222,\"#7201a8\"],[0.3333333333333333,\"#9c179e\"],[0.4444444444444444,\"#bd3786\"],[0.5555555555555556,\"#d8576b\"],[0.6666666666666666,\"#ed7953\"],[0.7777777777777778,\"#fb9f3a\"],[0.8888888888888888,\"#fdca26\"],[1.0,\"#f0f921\"]]}],\"heatmapgl\":[{\"type\":\"heatmapgl\",\"colorbar\":{\"outlinewidth\":0,\"ticks\":\"\"},\"colorscale\":[[0.0,\"#0d0887\"],[0.1111111111111111,\"#46039f\"],[0.2222222222222222,\"#7201a8\"],[0.3333333333333333,\"#9c179e\"],[0.4444444444444444,\"#bd3786\"],[0.5555555555555556,\"#d8576b\"],[0.6666666666666666,\"#ed7953\"],[0.7777777777777778,\"#fb9f3a\"],[0.8888888888888888,\"#fdca26\"],[1.0,\"#f0f921\"]]}],\"contourcarpet\":[{\"type\":\"contourcarpet\",\"colorbar\":{\"outlinewidth\":0,\"ticks\":\"\"}}],\"contour\":[{\"type\":\"contour\",\"colorbar\":{\"outlinewidth\":0,\"ticks\":\"\"},\"colorscale\":[[0.0,\"#0d0887\"],[0.1111111111111111,\"#46039f\"],[0.2222222222222222,\"#7201a8\"],[0.3333333333333333,\"#9c179e\"],[0.4444444444444444,\"#bd3786\"],[0.5555555555555556,\"#d8576b\"],[0.6666666666666666,\"#ed7953\"],[0.7777777777777778,\"#fb9f3a\"],[0.8888888888888888,\"#fdca26\"],[1.0,\"#f0f921\"]]}],\"surface\":[{\"type\":\"surface\",\"colorbar\":{\"outlinewidth\":0,\"ticks\":\"\"},\"colorscale\":[[0.0,\"#0d0887\"],[0.1111111111111111,\"#46039f\"],[0.2222222222222222,\"#7201a8\"],[0.3333333333333333,\"#9c179e\"],[0.4444444444444444,\"#bd3786\"],[0.5555555555555556,\"#d8576b\"],[0.6666666666666666,\"#ed7953\"],[0.7777777777777778,\"#fb9f3a\"],[0.8888888888888888,\"#fdca26\"],[1.0,\"#f0f921\"]]}],\"mesh3d\":[{\"type\":\"mesh3d\",\"colorbar\":{\"outlinewidth\":0,\"ticks\":\"\"}}],\"scatter\":[{\"fillpattern\":{\"fillmode\":\"overlay\",\"size\":10,\"solidity\":0.2},\"type\":\"scatter\"}],\"parcoords\":[{\"type\":\"parcoords\",\"line\":{\"colorbar\":{\"outlinewidth\":0,\"ticks\":\"\"}}}],\"scatterpolargl\":[{\"type\":\"scatterpolargl\",\"marker\":{\"colorbar\":{\"outlinewidth\":0,\"ticks\":\"\"}}}],\"bar\":[{\"error_x\":{\"color\":\"#2a3f5f\"},\"error_y\":{\"color\":\"#2a3f5f\"},\"marker\":{\"line\":{\"color\":\"#E5ECF6\",\"width\":0.5},\"pattern\":{\"fillmode\":\"overlay\",\"size\":10,\"solidity\":0.2}},\"type\":\"bar\"}],\"scattergeo\":[{\"type\":\"scattergeo\",\"marker\":{\"colorbar\":{\"outlinewidth\":0,\"ticks\":\"\"}}}],\"scatterpolar\":[{\"type\":\"scatterpolar\",\"marker\":{\"colorbar\":{\"outlinewidth\":0,\"ticks\":\"\"}}}],\"histogram\":[{\"marker\":{\"pattern\":{\"fillmode\":\"overlay\",\"size\":10,\"solidity\":0.2}},\"type\":\"histogram\"}],\"scattergl\":[{\"type\":\"scattergl\",\"marker\":{\"colorbar\":{\"outlinewidth\":0,\"ticks\":\"\"}}}],\"scatter3d\":[{\"type\":\"scatter3d\",\"line\":{\"colorbar\":{\"outlinewidth\":0,\"ticks\":\"\"}},\"marker\":{\"colorbar\":{\"outlinewidth\":0,\"ticks\":\"\"}}}],\"scattermapbox\":[{\"type\":\"scattermapbox\",\"marker\":{\"colorbar\":{\"outlinewidth\":0,\"ticks\":\"\"}}}],\"scatterternary\":[{\"type\":\"scatterternary\",\"marker\":{\"colorbar\":{\"outlinewidth\":0,\"ticks\":\"\"}}}],\"scattercarpet\":[{\"type\":\"scattercarpet\",\"marker\":{\"colorbar\":{\"outlinewidth\":0,\"ticks\":\"\"}}}],\"carpet\":[{\"aaxis\":{\"endlinecolor\":\"#2a3f5f\",\"gridcolor\":\"white\",\"linecolor\":\"white\",\"minorgridcolor\":\"white\",\"startlinecolor\":\"#2a3f5f\"},\"baxis\":{\"endlinecolor\":\"#2a3f5f\",\"gridcolor\":\"white\",\"linecolor\":\"white\",\"minorgridcolor\":\"white\",\"startlinecolor\":\"#2a3f5f\"},\"type\":\"carpet\"}],\"table\":[{\"cells\":{\"fill\":{\"color\":\"#EBF0F8\"},\"line\":{\"color\":\"white\"}},\"header\":{\"fill\":{\"color\":\"#C8D4E3\"},\"line\":{\"color\":\"white\"}},\"type\":\"table\"}],\"barpolar\":[{\"marker\":{\"line\":{\"color\":\"#E5ECF6\",\"width\":0.5},\"pattern\":{\"fillmode\":\"overlay\",\"size\":10,\"solidity\":0.2}},\"type\":\"barpolar\"}],\"pie\":[{\"automargin\":true,\"type\":\"pie\"}]},\"layout\":{\"autotypenumbers\":\"strict\",\"colorway\":[\"#636efa\",\"#EF553B\",\"#00cc96\",\"#ab63fa\",\"#FFA15A\",\"#19d3f3\",\"#FF6692\",\"#B6E880\",\"#FF97FF\",\"#FECB52\"],\"font\":{\"color\":\"#2a3f5f\"},\"hovermode\":\"closest\",\"hoverlabel\":{\"align\":\"left\"},\"paper_bgcolor\":\"white\",\"plot_bgcolor\":\"#E5ECF6\",\"polar\":{\"bgcolor\":\"#E5ECF6\",\"angularaxis\":{\"gridcolor\":\"white\",\"linecolor\":\"white\",\"ticks\":\"\"},\"radialaxis\":{\"gridcolor\":\"white\",\"linecolor\":\"white\",\"ticks\":\"\"}},\"ternary\":{\"bgcolor\":\"#E5ECF6\",\"aaxis\":{\"gridcolor\":\"white\",\"linecolor\":\"white\",\"ticks\":\"\"},\"baxis\":{\"gridcolor\":\"white\",\"linecolor\":\"white\",\"ticks\":\"\"},\"caxis\":{\"gridcolor\":\"white\",\"linecolor\":\"white\",\"ticks\":\"\"}},\"coloraxis\":{\"colorbar\":{\"outlinewidth\":0,\"ticks\":\"\"}},\"colorscale\":{\"sequential\":[[0.0,\"#0d0887\"],[0.1111111111111111,\"#46039f\"],[0.2222222222222222,\"#7201a8\"],[0.3333333333333333,\"#9c179e\"],[0.4444444444444444,\"#bd3786\"],[0.5555555555555556,\"#d8576b\"],[0.6666666666666666,\"#ed7953\"],[0.7777777777777778,\"#fb9f3a\"],[0.8888888888888888,\"#fdca26\"],[1.0,\"#f0f921\"]],\"sequentialminus\":[[0.0,\"#0d0887\"],[0.1111111111111111,\"#46039f\"],[0.2222222222222222,\"#7201a8\"],[0.3333333333333333,\"#9c179e\"],[0.4444444444444444,\"#bd3786\"],[0.5555555555555556,\"#d8576b\"],[0.6666666666666666,\"#ed7953\"],[0.7777777777777778,\"#fb9f3a\"],[0.8888888888888888,\"#fdca26\"],[1.0,\"#f0f921\"]],\"diverging\":[[0,\"#8e0152\"],[0.1,\"#c51b7d\"],[0.2,\"#de77ae\"],[0.3,\"#f1b6da\"],[0.4,\"#fde0ef\"],[0.5,\"#f7f7f7\"],[0.6,\"#e6f5d0\"],[0.7,\"#b8e186\"],[0.8,\"#7fbc41\"],[0.9,\"#4d9221\"],[1,\"#276419\"]]},\"xaxis\":{\"gridcolor\":\"white\",\"linecolor\":\"white\",\"ticks\":\"\",\"title\":{\"standoff\":15},\"zerolinecolor\":\"white\",\"automargin\":true,\"zerolinewidth\":2},\"yaxis\":{\"gridcolor\":\"white\",\"linecolor\":\"white\",\"ticks\":\"\",\"title\":{\"standoff\":15},\"zerolinecolor\":\"white\",\"automargin\":true,\"zerolinewidth\":2},\"scene\":{\"xaxis\":{\"backgroundcolor\":\"#E5ECF6\",\"gridcolor\":\"white\",\"linecolor\":\"white\",\"showbackground\":true,\"ticks\":\"\",\"zerolinecolor\":\"white\",\"gridwidth\":2},\"yaxis\":{\"backgroundcolor\":\"#E5ECF6\",\"gridcolor\":\"white\",\"linecolor\":\"white\",\"showbackground\":true,\"ticks\":\"\",\"zerolinecolor\":\"white\",\"gridwidth\":2},\"zaxis\":{\"backgroundcolor\":\"#E5ECF6\",\"gridcolor\":\"white\",\"linecolor\":\"white\",\"showbackground\":true,\"ticks\":\"\",\"zerolinecolor\":\"white\",\"gridwidth\":2}},\"shapedefaults\":{\"line\":{\"color\":\"#2a3f5f\"}},\"annotationdefaults\":{\"arrowcolor\":\"#2a3f5f\",\"arrowhead\":0,\"arrowwidth\":1},\"geo\":{\"bgcolor\":\"white\",\"landcolor\":\"#E5ECF6\",\"subunitcolor\":\"white\",\"showland\":true,\"showlakes\":true,\"lakecolor\":\"white\"},\"title\":{\"x\":0.05},\"mapbox\":{\"style\":\"light\"}}},\"xaxis\":{\"anchor\":\"y\",\"domain\":[0.0,1.0],\"title\":{\"text\":\"Employee\"},\"categoryorder\":\"array\",\"categoryarray\":[\"Dodsworth Anne\",\"Callahan Laura\",\"Peacock Margaret\",\"Leverling Janet\",\"Fuller Andrew\",\"King Robert\",\"Suyama Michael\",\"Davolio Nancy\",\"Buchanan Steven\"]},\"yaxis\":{\"anchor\":\"x\",\"domain\":[0.0,1.0],\"title\":{\"text\":\"count\"}},\"legend\":{\"title\":{\"text\":\"Employee\"},\"tracegroupgap\":0},\"title\":{\"text\":\"EMPLOYEES TOTAL ORDERS SENT TO DIFFERENT CITIES\"},\"barmode\":\"group\",\"height\":400},                        {\"responsive\": true}                    ).then(function(){\n",
       "                            \n",
       "var gd = document.getElementById('1e219bc5-b43b-43de-b3a0-ceba809d392d');\n",
       "var x = new MutationObserver(function (mutations, observer) {{\n",
       "        var display = window.getComputedStyle(gd).display;\n",
       "        if (!display || display === 'none') {{\n",
       "            console.log([gd, 'removed!']);\n",
       "            Plotly.purge(gd);\n",
       "            observer.disconnect();\n",
       "        }}\n",
       "}});\n",
       "\n",
       "// Listen for the removal of the full notebook cells\n",
       "var notebookContainer = gd.closest('#notebook-container');\n",
       "if (notebookContainer) {{\n",
       "    x.observe(notebookContainer, {childList: true});\n",
       "}}\n",
       "\n",
       "// Listen for the clearing of the current output cell\n",
       "var outputEl = gd.closest('.output');\n",
       "if (outputEl) {{\n",
       "    x.observe(outputEl, {childList: true});\n",
       "}}\n",
       "\n",
       "                        })                };                });            </script>        </div>"
      ]
     },
     "metadata": {},
     "output_type": "display_data"
    }
   ],
   "source": [
    "fig = px.histogram(shippers_df , x=\"Employee_Name\", y=\"Ship_City\", labels={\n",
    "                     \"Employee_Name\": \"Employee\"}, color='Employee_Name', barmode='group',\n",
    "             height=400, title = 'EMPLOYEES TOTAL ORDERS SENT TO DIFFERENT CITIES', histfunc = 'count')\n",
    "fig.show()"
   ]
  },
  {
   "cell_type": "code",
   "execution_count": 111,
   "id": "87c8d07b-9cfd-4e78-888e-400e9146a898",
   "metadata": {},
   "outputs": [
    {
     "name": "stdout",
     "output_type": "stream",
     "text": [
      "                                    sum_sq     df         F    PR(>F)\n",
      "Intercept                       311.126024    1.0  2.765565  0.344661\n",
      "C(Employee_Name)                162.870405    8.0  0.180967  0.953371\n",
      "C(Ship_City)                    810.822930   25.0  0.288293  0.925666\n",
      "C(Employee_Name):C(Ship_City)  6638.563830  200.0  0.295047  0.925639\n",
      "Residual                        112.500000    1.0       NaN       NaN\n"
     ]
    },
    {
     "name": "stderr",
     "output_type": "stream",
     "text": [
      "C:\\ProgramData\\anaconda3\\Lib\\site-packages\\statsmodels\\base\\model.py:1888: ValueWarning:\n",
      "\n",
      "covariance of constraints does not have full rank. The number of constraints is 200, but rank is 34\n",
      "\n"
     ]
    }
   ],
   "source": [
    "# Fit the model\n",
    "model = ols('Late_By ~ C(Employee_Name) + C(Ship_City) + C(Employee_Name):C(Ship_City)', data=shippers_df).fit()\n",
    "anova_table = sm.stats.anova_lm(model, typ=3)\n",
    "\n",
    "print(anova_table)"
   ]
  },
  {
   "cell_type": "code",
   "execution_count": 112,
   "id": "cd570087-a0ef-41a0-8060-b6f1a3e2356c",
   "metadata": {},
   "outputs": [
    {
     "name": "stdout",
     "output_type": "stream",
     "text": [
      "reject alternative hypothesis\n",
      "Conclusion: There is no significant difference between Late_By and Employee_Name and Ship_City\n",
      "pvalue: 0.9256386271205385\n"
     ]
    }
   ],
   "source": [
    "pvalue_Employee_Name = anova_table['PR(>F)'].loc['C(Employee_Name)']\n",
    "pvalue_Ship_City =  anova_table['PR(>F)'].loc['C(Ship_City)']\n",
    "pvalue_interaction =  anova_table['PR(>F)'].loc['C(Employee_Name):C(Ship_City)']\n",
    "null = 'There is no significant difference between Late_By and Employee_Name and Ship_City'\n",
    "alternative = 'There is a significant difference between Late_By and Employee_Name andShip_City'\n",
    "\n",
    "# choose a level of significance\n",
    "alpha = 0.05\n",
    "\n",
    "\n",
    "# decision rule\n",
    "if pvalue_interaction  < alpha:\n",
    "  print(f'reject null hypothesis')\n",
    "  print(f'Conclusion: {alternative}')\n",
    "else:\n",
    "  print(f'reject alternative hypothesis')\n",
    "  print(f'Conclusion: {null}')\n",
    "print(f'pvalue: {pvalue_interaction}')"
   ]
  },
  {
   "cell_type": "markdown",
   "id": "df5ae6c9-9c0c-4d23-a4f2-7cbc40390b67",
   "metadata": {},
   "source": [
    "## Conclusion\n",
    "From the analysis above, it could be concluded that both the employee handling the orders and the cities to which the orders are sent have no statistically significant influence on delivery delays (late orders) in the Northwind database. The interaction between these factors is also not significant, suggesting that the effect of one factor does not depend on the level of the other factor."
   ]
  }
 ],
 "metadata": {
  "kernelspec": {
   "display_name": "Python 3 (ipykernel)",
   "language": "python",
   "name": "python3"
  },
  "language_info": {
   "codemirror_mode": {
    "name": "ipython",
    "version": 3
   },
   "file_extension": ".py",
   "mimetype": "text/x-python",
   "name": "python",
   "nbconvert_exporter": "python",
   "pygments_lexer": "ipython3",
   "version": "3.11.7"
  }
 },
 "nbformat": 4,
 "nbformat_minor": 5
}
